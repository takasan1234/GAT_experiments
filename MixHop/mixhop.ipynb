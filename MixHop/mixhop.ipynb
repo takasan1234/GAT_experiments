{
 "cells": [
  {
   "cell_type": "markdown",
   "metadata": {
    "id": "YOT0Yd3fRG1K"
   },
   "source": [
    "# MixHop実装"
   ]
  },
  {
   "cell_type": "code",
   "execution_count": null,
   "metadata": {
    "executionInfo": {
     "elapsed": 9,
     "status": "ok",
     "timestamp": 1749885238201,
     "user": {
      "displayName": "辻孝弥",
      "userId": "00482923269559055915"
     },
     "user_tz": -540
    },
    "id": "MKRP5K9bKuQd"
   },
   "outputs": [],
   "source": []
  },
  {
   "cell_type": "markdown",
   "metadata": {
    "id": "kdXR4vHUQ2jC"
   },
   "source": [
    "元論文：MixHop: Higher-Order Graph Convolutional Architectures via Sparsified Neighborhood Mixing\n",
    "Sami Abu-El-Haija, Bryan Perozzi, Amol Kapoor, Nazanin Alipourfard, Kristina Lerman, Hrayr Harutyunyan, Greg Ver Steeg, Aram Galstyan\n",
    "ICML 2019\n",
    "\n",
    "https://arxiv.org/abs/1905.00067\n",
    "参考にしたコード：https://github.com/samihaija/mixhop"
   ]
  },
  {
   "cell_type": "markdown",
   "metadata": {
    "id": "gL5eSgD_azle"
   },
   "source": [
    "全体の流れ\n",
    "\n",
    "0.   事前にcora.contentとcora.citesをダウンロードして/content/drive/My Drive/Colab Notebooks/に置いてください．\n",
    "1.   ライブラリのインストール\n",
    "2.   汎用関数の定義\n",
    "3.   MixHopモデル定義（複数階の隣接行列を同時使用）\n",
    "4.   グラフデータ読み込み\n",
    "5.   学習準備\n",
    "6.   モデル学習\n",
    "7.   テスト精度検証\n",
    "8.   結果の描画\n"
   ]
  },
  {
   "cell_type": "markdown",
   "metadata": {
    "id": "wIic0qiuRNsM"
   },
   "source": [
    "# ライブラリのインストール"
   ]
  },
  {
   "cell_type": "code",
   "execution_count": 1,
   "metadata": {
    "executionInfo": {
     "elapsed": 14545,
     "status": "ok",
     "timestamp": 1749885252747,
     "user": {
      "displayName": "辻孝弥",
      "userId": "00482923269559055915"
     },
     "user_tz": -540
    },
    "id": "6pk9fS61QtNb"
   },
   "outputs": [],
   "source": [
    "import torch\n",
    "import torch.nn as nn\n",
    "import torch.nn.functional as F\n",
    "import matplotlib.pyplot as plt\n",
    "from sklearn.manifold import TSNE\n",
    "import time\n",
    "import numpy as np\n",
    "import scipy.sparse as sparse\n",
    "import random as random\n",
    "import os\n",
    "import sys"
   ]
  },
  {
   "cell_type": "code",
   "execution_count": 2,
   "metadata": {
    "colab": {
     "base_uri": "https://localhost:8080/"
    },
    "executionInfo": {
     "elapsed": 36422,
     "status": "ok",
     "timestamp": 1749885289166,
     "user": {
      "displayName": "辻孝弥",
      "userId": "00482923269559055915"
     },
     "user_tz": -540
    },
    "id": "cah2QnbMUtmj",
    "outputId": "344e9f47-2e2b-4e6e-cd5d-7ff686d24c16"
   },
   "outputs": [
    {
     "name": "stdout",
     "output_type": "stream",
     "text": [
      "Mounted at /content/drive\n"
     ]
    }
   ],
   "source": [
    "from google.colab import drive\n",
    "drive.mount('/content/drive')"
   ]
  },
  {
   "cell_type": "markdown",
   "metadata": {
    "id": "SreUdfkW4SOW"
   },
   "source": [
    "# 汎用関数の定義"
   ]
  },
  {
   "cell_type": "code",
   "execution_count": 3,
   "metadata": {
    "executionInfo": {
     "elapsed": 2,
     "status": "ok",
     "timestamp": 1749885289167,
     "user": {
      "displayName": "辻孝弥",
      "userId": "00482923269559055915"
     },
     "user_tz": -540
    },
    "id": "DyaBowo-lnvT"
   },
   "outputs": [],
   "source": [
    "#乱数の固定化\n",
    "\n",
    "def seed_everything(seed: int = 42):\n",
    "    random.seed(seed)\n",
    "    np.random.seed(seed)\n",
    "    os.environ[\"PYTHONHASHSEED\"] = str(seed)\n",
    "\n",
    "    if \"torch\" in sys.modules:\n",
    "        torch.manual_seed(seed)\n",
    "        torch.cuda.manual_seed_all(seed)\n",
    "        torch.backends.cudnn.deterministic = True\n",
    "        torch.backends.cudnn.benchmark = False\n",
    "\n",
    "seed_everything(42)"
   ]
  },
  {
   "cell_type": "code",
   "execution_count": 4,
   "metadata": {
    "executionInfo": {
     "elapsed": 5,
     "status": "ok",
     "timestamp": 1749885289181,
     "user": {
      "displayName": "辻孝弥",
      "userId": "00482923269559055915"
     },
     "user_tz": -540
    },
    "id": "Y32W_NUKR6Lp"
   },
   "outputs": [],
   "source": [
    "def load_data():\n",
    "    print(\"Loading Cora dataset...\")\n",
    "    raw_nodes_data = np.genfromtxt('/content/drive/My Drive/Colab Notebooks/cora.content', dtype=\"str\")\n",
    "    print(raw_nodes_data)\n",
    "    raw_node_ids = raw_nodes_data[:, 0].astype('int32')  # 各行の一列目に格納されてるノードIDを抽出\n",
    "    #print(raw_node_ids)\n",
    "    raw_node_labels = raw_nodes_data[:, -1]# 各行の最終列に格納されてるラベルを抽出．このラベルが予測ターゲット\n",
    "    #print(raw_node_labels)\n",
    "\n",
    "    unique = list(set(raw_node_labels))\n",
    "    #print(unique)\n",
    "    labels_enumerated = np.array([unique.index(label) for label in raw_node_labels])\n",
    "    #print(labels_enumerated)\n",
    "    node_features = sparse.csr_matrix(raw_nodes_data[:, 1:-1], dtype=\"float32\")\n",
    "    #print(node_features)\n",
    "\n",
    "    ids_ordered = {raw_id: order for order, raw_id in enumerate(raw_node_ids)} #実際のノードIDを0から節点数-1に対応付け\n",
    "    #print(ids_ordered)\n",
    "    raw_edges_data = np.genfromtxt('/content/drive/My Drive/Colab Notebooks/cora.cites', dtype=\"int32\")\n",
    "    #print(raw_edges_data)\n",
    "    edges = np.array(list(map(ids_ordered.get, raw_edges_data.flatten())), dtype='int32').reshape(raw_edges_data.shape) # 実際のノードIDを変換. reshapeでデータ構造を元の枝ファイルと同様に変更．\n",
    "    #print(edges)\n",
    "\n",
    "    adj = sparse.coo_matrix((np.ones(edges.shape[0]), (edges[:, 0], edges[:, 1])),\n",
    "                            shape=(labels_enumerated.shape[0], labels_enumerated.shape[0]),\n",
    "                            dtype=np.float32)\n",
    "    #print(adj)\n",
    "\n",
    "    adj = adj + adj.T.multiply(adj.T > adj) #隣接行列を対象に変更 (つまり，無向グラフに変換)\n",
    "    #print(adj)\n",
    "\n",
    "    adj = adj + sparse.eye(adj.shape[0]) #対角成分に1を挿入\n",
    "\n",
    "    node_degrees = np.array(adj.sum(1)) #列毎の総和を計算する（つまり，次数を計算する）\n",
    "    #print(node_degrees)\n",
    "\n",
    "    node_degrees = np.power(node_degrees, -0.5).flatten()\n",
    "    #print(node_degrees)\n",
    "\n",
    "    degree_matrix = sparse.diags(node_degrees, dtype=np.float32)\n",
    "    print(degree_matrix)\n",
    "\n",
    "    adj = degree_matrix @ adj @ degree_matrix #行列の積を計算．\n",
    "    #torch.spmm(degree_matrix,torch.spmm(adj,degree_matrix))\n",
    "\n",
    "    print(adj)\n",
    "\n",
    "    features = torch.FloatTensor(node_features.toarray())\n",
    "    labels = torch.LongTensor(labels_enumerated)\n",
    "    adj = torch.FloatTensor(np.array(adj.todense()))\n",
    "\n",
    "    return features, labels, adj, edges"
   ]
  },
  {
   "cell_type": "code",
   "execution_count": 5,
   "metadata": {
    "executionInfo": {
     "elapsed": 16,
     "status": "ok",
     "timestamp": 1749885289199,
     "user": {
      "displayName": "辻孝弥",
      "userId": "00482923269559055915"
     },
     "user_tz": -540
    },
    "id": "C7AQDD874p7L"
   },
   "outputs": [],
   "source": [
    "def visualize_embedding_tSNE(labels, y_pred, num_classes):\n",
    "\n",
    "    cora_label_to_color_map = {0: \"red\", 1: \"blue\", 2: \"green\", 3: \"orange\", 4: \"yellow\", 5: \"pink\", 6: \"gray\"}\n",
    "\n",
    "    node_labels = labels.cpu().numpy()\n",
    "    out_features = y_pred.detach().cpu().numpy()\n",
    "    t_sne_embeddings = TSNE(n_components=2, perplexity=30, method='barnes_hut').fit_transform(out_features)\n",
    "\n",
    "    plt.figure()\n",
    "    for class_id in range(num_classes):\n",
    "        plt.scatter(t_sne_embeddings[node_labels == class_id, 0],\n",
    "                    t_sne_embeddings[node_labels == class_id, 1], s=20,\n",
    "                    color=cora_label_to_color_map[class_id],\n",
    "                    edgecolors='black', linewidths=0.15)\n",
    "\n",
    "    plt.axis(\"off\")\n",
    "    plt.title(\"Visualizing t-SNE for MixHop\")\n",
    "    plt.show()"
   ]
  },
  {
   "cell_type": "markdown",
   "metadata": {
    "id": "_HhyeJ8cbi4k"
   },
   "source": [
    "# MixHopモデル定義"
   ]
  },
  {
   "cell_type": "code",
   "execution_count": 6,
   "metadata": {
    "executionInfo": {
     "elapsed": 9,
     "status": "ok",
     "timestamp": 1749885289209,
     "user": {
      "displayName": "辻孝弥",
      "userId": "00482923269559055915"
     },
     "user_tz": -540
    },
    "id": "Icbs8olpQ0o6"
   },
   "outputs": [],
   "source": [
    "class MixHopLayer(nn.Module):\n",
    "    \"\"\"\n",
    "    MixHop Layer implementation\n",
    "    複数階の隣接行列（1-hop, 2-hop, 3-hop）を同時に使用し、\n",
    "    各hopに対して個別の線形変換を適用してから結合する\n",
    "    \"\"\"\n",
    "    def __init__(self, in_features, out_features_per_hop, hops, dropout):\n",
    "        super(MixHopLayer, self).__init__()\n",
    "        self.in_features = in_features\n",
    "        self.out_features_per_hop = out_features_per_hop\n",
    "        self.hops = hops  # [1, 2, 3] のようなリスト\n",
    "        self.dropout = dropout\n",
    "\n",
    "        # 各hopに対する線形変換層\n",
    "        self.hop_layers = nn.ModuleList()\n",
    "        for hop in hops:\n",
    "            self.hop_layers.append(nn.Linear(in_features, out_features_per_hop))\n",
    "\n",
    "        # 総出力次元は hop数 × out_features_per_hop\n",
    "        self.total_out_features = len(hops) * out_features_per_hop\n",
    "\n",
    "    def forward(self, x, adj):\n",
    "        # 異なる階数の隣接行列を事前計算\n",
    "        adj_powers = [adj]  # A^1\n",
    "        current_adj = adj\n",
    "\n",
    "        # A^2, A^3, ... を計算\n",
    "        for i in range(2, max(self.hops) + 1):\n",
    "            current_adj = torch.mm(current_adj, adj)\n",
    "            adj_powers.append(current_adj)\n",
    "\n",
    "        # 各hopに対する特徴量変換\n",
    "        hop_outputs = []\n",
    "        for i, hop in enumerate(self.hops):\n",
    "            # hop階の隣接行列を使用 (hop-1でインデックス調整)\n",
    "            hop_adj = adj_powers[hop - 1]\n",
    "\n",
    "            # 隣接行列による特徴量の集約\n",
    "            aggregated_features = torch.mm(hop_adj, x)\n",
    "\n",
    "            # 線形変換\n",
    "            transformed = self.hop_layers[i](aggregated_features)\n",
    "\n",
    "            # ReLU活性化関数\n",
    "            activated = F.relu(transformed)\n",
    "\n",
    "            # Dropout\n",
    "            dropped = F.dropout(activated, self.dropout, training=self.training)\n",
    "\n",
    "            hop_outputs.append(dropped)\n",
    "\n",
    "        # 全hopの出力を結合\n",
    "        concatenated = torch.cat(hop_outputs, dim=1)\n",
    "\n",
    "        return concatenated\n"
   ]
  },
  {
   "cell_type": "markdown",
   "metadata": {
    "id": "6GlboP_1QwdZ"
   },
   "source": []
  },
  {
   "cell_type": "code",
   "execution_count": 7,
   "metadata": {
    "executionInfo": {
     "elapsed": 6,
     "status": "ok",
     "timestamp": 1749885289216,
     "user": {
      "displayName": "辻孝弥",
      "userId": "00482923269559055915"
     },
     "user_tz": -540
    },
    "id": "1OFbuEB5RyNY"
   },
   "outputs": [],
   "source": [
    "class MixHop(nn.Module):\n",
    "    \"\"\"\n",
    "    MixHop model implementation\n",
    "    複数の異なるhop数の隣接行列を同時に使用して特徴量を抽出\n",
    "    \"\"\"\n",
    "    def __init__(self, nfeat, nhid_per_hop, nclass, dropout, hops):\n",
    "        super(MixHop, self).__init__()\n",
    "        self.dropout = dropout\n",
    "        self.hops = hops\n",
    "\n",
    "        # 最初のMixHopレイヤー\n",
    "        self.mixhop1 = MixHopLayer(nfeat, nhid_per_hop, hops, dropout)\n",
    "\n",
    "        # 2層目のMixHopレイヤー（入力次元は前層の出力次元）\n",
    "        hidden_total = len(hops) * nhid_per_hop\n",
    "        self.mixhop2 = MixHopLayer(hidden_total, nhid_per_hop, hops, dropout)\n",
    "\n",
    "        # 最終出力層\n",
    "        final_input_dim = len(hops) * nhid_per_hop\n",
    "        self.classifier = nn.Linear(final_input_dim, nclass)\n",
    "\n",
    "    def forward(self, x, adj):\n",
    "        # 最初のMixHopレイヤー\n",
    "        x = self.mixhop1(x, adj)\n",
    "\n",
    "        # 2番目のMixHopレイヤー\n",
    "        x = self.mixhop2(x, adj)\n",
    "\n",
    "        # 最終分類層\n",
    "        x = self.classifier(x)\n",
    "\n",
    "        return F.log_softmax(x, dim=1)"
   ]
  },
  {
   "cell_type": "markdown",
   "metadata": {
    "id": "pJbodD_mbtN6"
   },
   "source": [
    "# グラフデータ読み込み"
   ]
  },
  {
   "cell_type": "markdown",
   "metadata": {
    "id": "Uqd1V1XNSXvj"
   },
   "source": [
    "グラフ読み込み"
   ]
  },
  {
   "cell_type": "code",
   "execution_count": 8,
   "metadata": {
    "colab": {
     "base_uri": "https://localhost:8080/"
    },
    "executionInfo": {
     "elapsed": 6040,
     "status": "ok",
     "timestamp": 1749885295262,
     "user": {
      "displayName": "辻孝弥",
      "userId": "00482923269559055915"
     },
     "user_tz": -540
    },
    "id": "iCHWqvnDGLkT",
    "outputId": "570af525-478d-4cb2-ebce-40f288f642c0"
   },
   "outputs": [
    {
     "name": "stdout",
     "output_type": "stream",
     "text": [
      "Loading Cora dataset...\n",
      "[['31336' '0' '0' ... '0' '0' 'Neural_Networks']\n",
      " ['1061127' '0' '0' ... '0' '0' 'Rule_Learning']\n",
      " ['1106406' '0' '0' ... '0' '0' 'Reinforcement_Learning']\n",
      " ...\n",
      " ['1128978' '0' '0' ... '0' '0' 'Genetic_Algorithms']\n",
      " ['117328' '0' '0' ... '0' '0' 'Case_Based']\n",
      " ['24043' '0' '0' ... '0' '0' 'Neural_Networks']]\n",
      "<DIAgonal sparse matrix of dtype 'float32'\n",
      "\twith 2708 stored elements (1 diagonals) and shape (2708, 2708)>\n",
      "  Coords\tValues\n",
      "  (0, 0)\t0.40824830532073975\n",
      "  (1, 1)\t0.7071067690849304\n",
      "  (2, 2)\t0.4472135901451111\n",
      "  (3, 3)\t0.5\n",
      "  (4, 4)\t0.7071067690849304\n",
      "  (5, 5)\t0.5773502588272095\n",
      "  (6, 6)\t0.5773502588272095\n",
      "  (7, 7)\t0.7071067690849304\n",
      "  (8, 8)\t0.40824830532073975\n",
      "  (9, 9)\t0.4472135901451111\n",
      "  (10, 10)\t0.40824830532073975\n",
      "  (11, 11)\t0.5773502588272095\n",
      "  (12, 12)\t0.5773502588272095\n",
      "  (13, 13)\t0.5\n",
      "  (14, 14)\t0.22360679507255554\n",
      "  (15, 15)\t0.30151134729385376\n",
      "  (16, 16)\t0.4472135901451111\n",
      "  (17, 17)\t0.7071067690849304\n",
      "  (18, 18)\t0.3535533845424652\n",
      "  (19, 19)\t0.5773502588272095\n",
      "  (20, 20)\t0.40824830532073975\n",
      "  (21, 21)\t0.4472135901451111\n",
      "  (22, 22)\t0.40824830532073975\n",
      "  (23, 23)\t0.5773502588272095\n",
      "  (24, 24)\t0.5773502588272095\n",
      "  :\t:\n",
      "  (2683, 2683)\t0.4472135901451111\n",
      "  (2684, 2684)\t0.7071067690849304\n",
      "  (2685, 2685)\t0.5773502588272095\n",
      "  (2686, 2686)\t0.5\n",
      "  (2687, 2687)\t0.5\n",
      "  (2688, 2688)\t0.4472135901451111\n",
      "  (2689, 2689)\t0.5773502588272095\n",
      "  (2690, 2690)\t0.5773502588272095\n",
      "  (2691, 2691)\t0.7071067690849304\n",
      "  (2692, 2692)\t0.5\n",
      "  (2693, 2693)\t0.7071067690849304\n",
      "  (2694, 2694)\t0.4472135901451111\n",
      "  (2695, 2695)\t0.5\n",
      "  (2696, 2696)\t0.4472135901451111\n",
      "  (2697, 2697)\t0.4472135901451111\n",
      "  (2698, 2698)\t0.5\n",
      "  (2699, 2699)\t0.7071067690849304\n",
      "  (2700, 2700)\t0.5773502588272095\n",
      "  (2701, 2701)\t0.5773502588272095\n",
      "  (2702, 2702)\t0.5773502588272095\n",
      "  (2703, 2703)\t0.5\n",
      "  (2704, 2704)\t0.5773502588272095\n",
      "  (2705, 2705)\t0.4472135901451111\n",
      "  (2706, 2706)\t0.4472135901451111\n",
      "  (2707, 2707)\t0.5\n",
      "<Compressed Sparse Row sparse matrix of dtype 'float64'\n",
      "\twith 13264 stored elements and shape (2708, 2708)>\n",
      "  Coords\tValues\n",
      "  (0, 0)\t0.16666667879725594\n",
      "  (0, 8)\t0.16666667879725594\n",
      "  (0, 14)\t0.09128709514657274\n",
      "  (0, 258)\t0.11785113237134937\n",
      "  (0, 435)\t0.16666667879725594\n",
      "  (0, 544)\t0.18257419029314548\n",
      "  (1, 1)\t0.4999999828857291\n",
      "  (1, 344)\t0.12499999572143228\n",
      "  (2, 2)\t0.1999999952104794\n",
      "  (2, 410)\t0.18257419029314548\n",
      "  (2, 471)\t0.1581138784091909\n",
      "  (2, 552)\t0.06819943435231757\n",
      "  (2, 565)\t0.05031545931958359\n",
      "  (3, 3)\t0.25\n",
      "  (3, 197)\t0.22360679507255554\n",
      "  (3, 463)\t0.20412415266036987\n",
      "  (3, 601)\t0.20412415266036987\n",
      "  (4, 4)\t0.4999999828857291\n",
      "  (4, 170)\t0.4082482761496564\n",
      "  (5, 5)\t0.33333332136784577\n",
      "  (5, 490)\t0.2041241380748282\n",
      "  (5, 2164)\t0.23570226474269873\n",
      "  (6, 6)\t0.33333332136784577\n",
      "  (6, 251)\t0.192450092011196\n",
      "  (6, 490)\t0.2041241380748282\n",
      "  :\t:\n",
      "  (2701, 2701)\t0.33333332136784577\n",
      "  (2702, 881)\t0.14907119430171534\n",
      "  (2702, 2624)\t0.2041241380748282\n",
      "  (2702, 2702)\t0.33333332136784577\n",
      "  (2703, 1221)\t0.25\n",
      "  (2703, 1409)\t0.1767766922712326\n",
      "  (2703, 2200)\t0.22360679507255554\n",
      "  (2703, 2703)\t0.25\n",
      "  (2704, 209)\t0.28867512941360474\n",
      "  (2704, 2407)\t0.33333332136784577\n",
      "  (2704, 2704)\t0.33333332136784577\n",
      "  (2705, 1784)\t0.1490712011577049\n",
      "  (2705, 1839)\t0.22360679507255554\n",
      "  (2705, 1840)\t0.25819888202132546\n",
      "  (2705, 2216)\t0.22360679507255554\n",
      "  (2705, 2705)\t0.1999999952104794\n",
      "  (2706, 1046)\t0.18257419029314548\n",
      "  (2706, 1138)\t0.16903084614948405\n",
      "  (2706, 1640)\t0.16903084614948405\n",
      "  (2706, 1752)\t0.3162277568183818\n",
      "  (2706, 2706)\t0.1999999952104794\n",
      "  (2707, 774)\t0.25\n",
      "  (2707, 1389)\t0.22360679507255554\n",
      "  (2707, 2344)\t0.3535533845424652\n",
      "  (2707, 2707)\t0.25\n"
     ]
    }
   ],
   "source": [
    "features, labels, adj, edges = load_data()"
   ]
  },
  {
   "cell_type": "code",
   "execution_count": 9,
   "metadata": {
    "colab": {
     "base_uri": "https://localhost:8080/"
    },
    "executionInfo": {
     "elapsed": 81,
     "status": "ok",
     "timestamp": 1749885295346,
     "user": {
      "displayName": "辻孝弥",
      "userId": "00482923269559055915"
     },
     "user_tz": -540
    },
    "id": "YnC9YsmrGuK_",
    "outputId": "31f02fca-9946-4b62-fe8d-eaa0e8d6ae45"
   },
   "outputs": [
    {
     "name": "stdout",
     "output_type": "stream",
     "text": [
      "tensor([[0., 0., 0.,  ..., 0., 0., 0.],\n",
      "        [0., 0., 0.,  ..., 0., 0., 0.],\n",
      "        [0., 0., 0.,  ..., 0., 0., 0.],\n",
      "        ...,\n",
      "        [0., 0., 0.,  ..., 0., 0., 0.],\n",
      "        [0., 0., 0.,  ..., 0., 0., 0.],\n",
      "        [0., 0., 0.,  ..., 0., 0., 0.]])\n",
      "tensor([5, 3, 1,  ..., 2, 0, 5])\n",
      "tensor([[0.1667, 0.0000, 0.0000,  ..., 0.0000, 0.0000, 0.0000],\n",
      "        [0.0000, 0.5000, 0.0000,  ..., 0.0000, 0.0000, 0.0000],\n",
      "        [0.0000, 0.0000, 0.2000,  ..., 0.0000, 0.0000, 0.0000],\n",
      "        ...,\n",
      "        [0.0000, 0.0000, 0.0000,  ..., 0.2000, 0.0000, 0.0000],\n",
      "        [0.0000, 0.0000, 0.0000,  ..., 0.0000, 0.2000, 0.0000],\n",
      "        [0.0000, 0.0000, 0.0000,  ..., 0.0000, 0.0000, 0.2500]])\n",
      "[[ 163  402]\n",
      " [ 163  659]\n",
      " [ 163 1696]\n",
      " ...\n",
      " [1887 2258]\n",
      " [1902 1887]\n",
      " [ 837 1686]]\n"
     ]
    }
   ],
   "source": [
    "print(features)\n",
    "print(labels)\n",
    "print(adj)\n",
    "print(edges)"
   ]
  },
  {
   "cell_type": "markdown",
   "metadata": {
    "id": "vEQNIZqib0ui"
   },
   "source": [
    "# 学習準備"
   ]
  },
  {
   "cell_type": "code",
   "execution_count": 10,
   "metadata": {
    "executionInfo": {
     "elapsed": 5,
     "status": "ok",
     "timestamp": 1749885295353,
     "user": {
      "displayName": "辻孝弥",
      "userId": "00482923269559055915"
     },
     "user_tz": -540
    },
    "id": "7wIusQFtG00L"
   },
   "outputs": [],
   "source": [
    "num_classes = int(labels.max().item() + 1)\n",
    "train_size_per_class=20\n",
    "validation_size=500\n",
    "test_size=1000\n",
    "classes = [ind for ind in range(num_classes)]\n",
    "train_set = []\n",
    "\n",
    "# Construct train set (indices) out of 20 samples per each class\n",
    "for class_label in classes:\n",
    "    target_indices = torch.nonzero(labels == class_label, as_tuple=False).tolist()\n",
    "    train_set += [ind[0] for ind in target_indices[:train_size_per_class]]\n",
    "\n",
    "# Extract the remaining samples\n",
    "validation_test_set = [ind for ind in range(len(labels)) if ind not in train_set]\n",
    "# Split the remaining samples into validation/test set\n",
    "validation_set = validation_test_set[:validation_size]\n",
    "test_set = validation_test_set[validation_size:validation_size+test_size]"
   ]
  },
  {
   "cell_type": "code",
   "execution_count": 11,
   "metadata": {
    "colab": {
     "base_uri": "https://localhost:8080/"
    },
    "executionInfo": {
     "elapsed": 34,
     "status": "ok",
     "timestamp": 1749885295389,
     "user": {
      "displayName": "辻孝弥",
      "userId": "00482923269559055915"
     },
     "user_tz": -540
    },
    "id": "1Xuz5n-sK4Ft",
    "outputId": "d238ea01-33ab-4118-b5af-e95abd2996ce"
   },
   "outputs": [
    {
     "name": "stdout",
     "output_type": "stream",
     "text": [
      "MixHop(\n",
      "  (mixhop1): MixHopLayer(\n",
      "    (hop_layers): ModuleList(\n",
      "      (0-2): 3 x Linear(in_features=1433, out_features=16, bias=True)\n",
      "    )\n",
      "  )\n",
      "  (mixhop2): MixHopLayer(\n",
      "    (hop_layers): ModuleList(\n",
      "      (0-2): 3 x Linear(in_features=48, out_features=16, bias=True)\n",
      "    )\n",
      "  )\n",
      "  (classifier): Linear(in_features=48, out_features=7, bias=True)\n",
      ")\n"
     ]
    }
   ],
   "source": [
    "dropout = 0.5  # MixHop用に設定\n",
    "nhid_per_hop = 16  # 各hopあたりの次元数\n",
    "hops = [1, 2, 3]  # 1-hop, 2-hop, 3-hopを使用\n",
    "\n",
    "model = MixHop(nfeat=features.shape[1],\n",
    "               nhid_per_hop=nhid_per_hop,\n",
    "               nclass=num_classes,\n",
    "               dropout=dropout,\n",
    "               hops=hops)\n",
    "print(model)"
   ]
  },
  {
   "cell_type": "code",
   "execution_count": 12,
   "metadata": {
    "colab": {
     "base_uri": "https://localhost:8080/"
    },
    "executionInfo": {
     "elapsed": 4610,
     "status": "ok",
     "timestamp": 1749885299998,
     "user": {
      "displayName": "辻孝弥",
      "userId": "00482923269559055915"
     },
     "user_tz": -540
    },
    "id": "5sf7t7i5K73R",
    "outputId": "c71af7ea-b2c7-4fcc-db6f-101a4f8353dc"
   },
   "outputs": [
    {
     "name": "stdout",
     "output_type": "stream",
     "text": [
      "Using GPU for training\n"
     ]
    }
   ],
   "source": [
    "if torch.cuda.is_available(): #cudaが使えるなら，GPUで処理\n",
    "  model.cuda()\n",
    "  adj = adj.cuda()\n",
    "  features = features.cuda()\n",
    "  labels = labels.cuda()\n",
    "  print(\"Using GPU for training\")\n",
    "else:\n",
    "  print(\"Using CPU for training\")\n",
    "\n",
    "optimizer = torch.optim.Adam(model.parameters(), lr=0.01, weight_decay=5e-4)\n",
    "criterion = nn.NLLLoss()  # log_softmaxの後はNLLLossを使用\n"
   ]
  },
  {
   "cell_type": "code",
   "execution_count": 13,
   "metadata": {
    "executionInfo": {
     "elapsed": 2,
     "status": "ok",
     "timestamp": 1749885300000,
     "user": {
      "displayName": "辻孝弥",
      "userId": "00482923269559055915"
     },
     "user_tz": -540
    },
    "id": "nNfairSCM19b"
   },
   "outputs": [],
   "source": [
    "def accuracy(output, labels):\n",
    "    y_pred = output.max(1)[1].type_as(labels)\n",
    "    correct = y_pred.eq(labels).double()\n",
    "    correct = correct.sum()\n",
    "    return correct / len(labels)"
   ]
  },
  {
   "cell_type": "markdown",
   "metadata": {
    "id": "Ku5lP2rAb8zk"
   },
   "source": [
    "# モデル学習"
   ]
  },
  {
   "cell_type": "code",
   "execution_count": 14,
   "metadata": {
    "colab": {
     "base_uri": "https://localhost:8080/"
    },
    "executionInfo": {
     "elapsed": 4456,
     "status": "ok",
     "timestamp": 1749885304460,
     "user": {
      "displayName": "辻孝弥",
      "userId": "00482923269559055915"
     },
     "user_tz": -540
    },
    "id": "0bFqbXUgL_He",
    "outputId": "8ef8168c-1103-4fab-903b-dae2ac67ee9e"
   },
   "outputs": [
    {
     "name": "stdout",
     "output_type": "stream",
     "text": [
      "=== Training MixHop ===\n",
      "Epoch:    0 | Train loss: 1.949 | Train acc: 0.157 | Val loss: 1.939 | Val acc: 0.130\n",
      "Epoch:   20 | Train loss: 0.368 | Train acc: 0.900 | Val loss: 0.805 | Val acc: 0.770\n",
      "EARLY STOPPING condition met. Stopped at epoch: 37.\n",
      "Total training time: 4.44 seconds\n"
     ]
    }
   ],
   "source": [
    "print(\"=== Training MixHop ===\")\n",
    "validation_acc = []\n",
    "validation_loss = []\n",
    "training_acc = []\n",
    "training_loss = []\n",
    "\n",
    "# Early stopping設定\n",
    "use_early_stopping = True\n",
    "patience = 20  # 20エポック待つ\n",
    "min_delta = 1e-4  # 最小改善量\n",
    "\n",
    "if use_early_stopping:\n",
    "    best_val_loss = float('inf')\n",
    "    patience_counter = 0\n",
    "    stopped_early = False\n",
    "\n",
    "t_start = time.time()\n",
    "maxepoch = 300\n",
    "for epoch in range(maxepoch):\n",
    "    optimizer.zero_grad()\n",
    "    model.train()\n",
    "\n",
    "    y_pred = model(features, adj)\n",
    "    train_loss = criterion(y_pred[train_set], labels[train_set])\n",
    "    train_acc = accuracy(y_pred[train_set], labels[train_set])\n",
    "    train_loss.backward()\n",
    "    optimizer.step()\n",
    "\n",
    "    training_loss.append(train_loss.item())\n",
    "    training_acc.append(train_acc)\n",
    "\n",
    "    with torch.no_grad():\n",
    "        model.eval()\n",
    "        y_pred_val = model(features, adj)  # 評価時は新しく予測\n",
    "        val_loss = criterion(y_pred_val[validation_set], labels[validation_set])\n",
    "        val_acc = accuracy(y_pred_val[validation_set], labels[validation_set])\n",
    "\n",
    "        validation_loss.append(val_loss.item())\n",
    "        validation_acc.append(val_acc)\n",
    "\n",
    "        if use_early_stopping:\n",
    "            if val_loss < best_val_loss - min_delta:\n",
    "                best_val_loss = val_loss\n",
    "                patience_counter = 0\n",
    "            else:\n",
    "                patience_counter += 1\n",
    "                if patience_counter >= patience:\n",
    "                    stopped_early = True\n",
    "                    t_end = time.time()\n",
    "\n",
    "    if epoch % 20 == 0:  # 20エポック毎に出力\n",
    "        print(\" | \".join([f\"Epoch: {epoch:4d}\", f\"Train loss: {train_loss.item():.3f}\",\n",
    "                        f\"Train acc: {train_acc:.3f}\",\n",
    "                        f\"Val loss: {val_loss.item():.3f}\",\n",
    "                        f\"Val acc: {val_acc:.3f}\"]))\n",
    "\n",
    "    if use_early_stopping and stopped_early:\n",
    "        break\n",
    "\n",
    "if use_early_stopping and stopped_early:\n",
    "    print(f\"EARLY STOPPING condition met. Stopped at epoch: {epoch}.\")\n",
    "else:\n",
    "    t_end = time.time()\n",
    "\n",
    "print(f\"Total training time: {t_end-t_start:.2f} seconds\")"
   ]
  },
  {
   "cell_type": "markdown",
   "metadata": {
    "id": "DG5BGRp4cLgi"
   },
   "source": [
    "# テスト精度の検証"
   ]
  },
  {
   "cell_type": "code",
   "execution_count": 15,
   "metadata": {
    "colab": {
     "base_uri": "https://localhost:8080/"
    },
    "executionInfo": {
     "elapsed": 16,
     "status": "ok",
     "timestamp": 1749885304474,
     "user": {
      "displayName": "辻孝弥",
      "userId": "00482923269559055915"
     },
     "user_tz": -540
    },
    "id": "9kvWbCGINmAw",
    "outputId": "33295ce1-3a01-433f-86ef-d42890093a6e"
   },
   "outputs": [
    {
     "name": "stdout",
     "output_type": "stream",
     "text": [
      "=== Test Results (MixHop) ===\n",
      "Test loss: 0.814  |  Test acc: 0.782\n",
      "Final Test Accuracy: 0.782\n"
     ]
    }
   ],
   "source": [
    "print(\"=== Test Results (MixHop) ===\")\n",
    "with torch.no_grad():\n",
    "    model.eval()\n",
    "    y_pred = model(features, adj)\n",
    "    test_loss = criterion(y_pred[test_set], labels[test_set])\n",
    "    test_acc = accuracy(y_pred[test_set], labels[test_set])\n",
    "\n",
    "print(f\"Test loss: {test_loss:.3f}  |  Test acc: {test_acc:.3f}\")\n",
    "print(f\"Final Test Accuracy: {test_acc:.3f}\")"
   ]
  },
  {
   "cell_type": "markdown",
   "metadata": {
    "id": "vMA7lOEAcDc9"
   },
   "source": [
    "# 結果の描画"
   ]
  },
  {
   "cell_type": "markdown",
   "metadata": {
    "id": "NaXWl1RicW57"
   },
   "source": [
    "まずは，訓練データのロスと精度，開発データのロスと精度がエポック毎にどのように変化してるか見てみましょう．"
   ]
  },
  {
   "cell_type": "code",
   "execution_count": 16,
   "metadata": {
    "colab": {
     "base_uri": "https://localhost:8080/",
     "height": 367
    },
    "executionInfo": {
     "elapsed": 555,
     "status": "ok",
     "timestamp": 1749885305038,
     "user": {
      "displayName": "辻孝弥",
      "userId": "00482923269559055915"
     },
     "user_tz": -540
    },
    "id": "eCEK7TbxOA22",
    "outputId": "471be847-645e-441f-9853-e9d2acce4230"
   },
   "outputs": [
    {
     "name": "stdout",
     "output_type": "stream",
     "text": [
      "=== Plotting Results ===\n"
     ]
    },
    {
     "data": {
      "image/png": "[encoded data removed]",
      "text/plain": [
       "<Figure size 1300x550 with 2 Axes>"
      ]
     },
     "metadata": {},
     "output_type": "display_data"
    }
   ],
   "source": [
    "print(\"=== Plotting Results ===\")\n",
    "f, axs = plt.subplots(1, 2, figsize=(13, 5.5))\n",
    "axs[0].plot(validation_loss, linewidth=2, color=\"red\", label=\"Validation\")\n",
    "axs[0].plot(training_loss, linewidth=2, color=\"blue\", label=\"Training\")\n",
    "axs[0].set_title(\"MixHop Loss\")\n",
    "axs[0].set_ylabel(\"Negative Log Likelihood Loss\")\n",
    "axs[0].set_xlabel(\"Epoch\")\n",
    "axs[0].legend()\n",
    "axs[0].grid()\n",
    "\n",
    "# GPU tensorsをCPUに移してからplotting\n",
    "validation_acc_cpu = [acc.cpu().item() if torch.is_tensor(acc) else acc for acc in validation_acc]\n",
    "training_acc_cpu = [acc.cpu().item() if torch.is_tensor(acc) else acc for acc in training_acc]\n",
    "\n",
    "axs[1].plot(validation_acc_cpu, linewidth=2, color=\"red\", label=\"Validation\")\n",
    "axs[1].plot(training_acc_cpu, linewidth=2, color=\"blue\", label=\"Training\")\n",
    "axs[1].set_title(\"MixHop Accuracy\")\n",
    "axs[1].set_ylabel(\"Accuracy\")\n",
    "axs[1].set_xlabel(\"Epoch\")\n",
    "axs[1].legend()\n",
    "axs[1].grid()\n",
    "\n",
    "plt.tight_layout()\n",
    "plt.show()"
   ]
  },
  {
   "cell_type": "markdown",
   "metadata": {
    "id": "WRTnoxpacqlK"
   },
   "source": [
    "学習後のMixHop特徴表現がラベルごとにかたまっているか見てみましょう．\n",
    "ここでは，tSNEを用いて多次元データを2次元に落とし込んで可視化をします．"
   ]
  },
  {
   "cell_type": "code",
   "execution_count": 17,
   "metadata": {
    "colab": {
     "base_uri": "https://localhost:8080/",
     "height": 428
    },
    "executionInfo": {
     "elapsed": 20420,
     "status": "ok",
     "timestamp": 1749885325460,
     "user": {
      "displayName": "辻孝弥",
      "userId": "00482923269559055915"
     },
     "user_tz": -540
    },
    "id": "euPocBI0QXXh",
    "outputId": "50ef8533-d698-4ab5-e4af-70a713fd9d5e"
   },
   "outputs": [
    {
     "data": {
      "image/png": "[encoded data removed]",
      "text/plain": [
       "<Figure size 640x480 with 1 Axes>"
      ]
     },
     "metadata": {},
     "output_type": "display_data"
    }
   ],
   "source": [
    "visualize_embedding_tSNE(labels, y_pred, num_classes)"
   ]
  },
  {
   "cell_type": "code",
   "execution_count": 17,
   "metadata": {
    "executionInfo": {
     "elapsed": 48,
     "status": "ok",
     "timestamp": 1749885325462,
     "user": {
      "displayName": "辻孝弥",
      "userId": "00482923269559055915"
     },
     "user_tz": -540
    },
    "id": "5J5QYCL7mgeK"
   },
   "outputs": [],
   "source": []
  }
 ],
 "metadata": {
  "accelerator": "GPU",
  "colab": {
   "gpuType": "T4",
   "provenance": []
  },
  "kernelspec": {
   "display_name": "Python 3",
   "name": "python3"
  },
  "language_info": {
   "name": "python"
  }
 },
 "nbformat": 4,
 "nbformat_minor": 0
}
