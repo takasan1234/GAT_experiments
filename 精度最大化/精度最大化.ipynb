{
  "cells": [
    {
      "cell_type": "markdown",
      "metadata": {
        "id": "YOT0Yd3fRG1K"
      },
      "source": [
        "# 精度最大化GAT実装\n",
        "\n",
        "## 概要\n",
        "Coraデータセットにおけるノード分類タスクで最高精度を目指すGAT改良版の実装\n",
        "\n",
        "## 主な改良点:\n",
        "1. **3層GAT構成**: input → hidden → hidden → output\n",
        "2. **Multi-head設定**: [8, 8, 1] heads (中間層concat=True, 出力層concat=False)\n",
        "3. **正規化強化**: 各層にBatchNorm + ReLU + Dropout(0.6)\n",
        "4. **入力正規化**: 特徴量にもDropout適用\n",
        "5. **最適化**: Adam(lr=0.005, weight_decay=5e-4) + EarlyStopping(patience=30)\n",
        "\n",
        "## データセット\n",
        "- **Cora**: 2,708ノード、1,433次元特徴量、7クラス分類\n",
        "- **分割**: 各クラス20サンプル訓練、500検証、1,000テスト"
      ]
    },
    {
      "cell_type": "code",
      "execution_count": null,
      "metadata": {
        "id": "MKRP5K9bKuQd"
      },
      "outputs": [],
      "source": []
    },
    {
      "cell_type": "markdown",
      "metadata": {
        "id": "kdXR4vHUQ2jC"
      },
      "source": [
        "元論文：Graph Attention Networks\n",
        "Petar Veličković, Guillem Cucurull, Arantxa Casanova, Adriana Romero, Pietro Liò, Yoshua Bengio\n",
        "ICLR 2018\n",
        "\n",
        "https://arxiv.org/abs/1609.02907\n",
        "参考にしたコード：https://github.com/Diego999/pyGAT"
      ]
    },
    {
      "cell_type": "markdown",
      "metadata": {
        "id": "gL5eSgD_azle"
      },
      "source": [
        "全体の流れ\n",
        "\n",
        "0.   事前にcora.contentとcora.citesをダウンロードして/content/drive/My Drive/Colab Notebooks/に置いてください．\n",
        "1.   ライブラリのインストール\n",
        "2.   汎用関数の定義\n",
        "3.   GATモデル定義 (NN実装がわかる人はここの参照のみで十分)\n",
        "4.   グラフデータ読み込み\n",
        "5.   学習準備\n",
        "6.   モデル学\n",
        "7.   テスト精度検証\n",
        "8.   結果の描画\n"
      ]
    },
    {
      "cell_type": "markdown",
      "metadata": {
        "id": "wIic0qiuRNsM"
      },
      "source": [
        "# ライブラリのインストール"
      ]
    },
    {
      "cell_type": "code",
      "execution_count": 1,
      "metadata": {
        "id": "6pk9fS61QtNb"
      },
      "outputs": [],
      "source": [
        "import torch\n",
        "import torch.nn as nn\n",
        "import torch.nn.functional as F\n",
        "import matplotlib.pyplot as plt\n",
        "from sklearn.manifold import TSNE\n",
        "import time\n",
        "import numpy as np\n",
        "import scipy.sparse as sparse\n",
        "import random as random\n",
        "import os\n",
        "import sys\n",
        "import copy  # EarlyStopping用に追加"
      ]
    },
    {
      "cell_type": "code",
      "execution_count": 2,
      "metadata": {
        "colab": {
          "base_uri": "https://localhost:8080/"
        },
        "id": "cah2QnbMUtmj",
        "outputId": "7e05a725-d559-456d-ea0c-ead4a3431ac8"
      },
      "outputs": [
        {
          "name": "stdout",
          "output_type": "stream",
          "text": [
            "Mounted at /content/drive\n"
          ]
        }
      ],
      "source": [
        "from google.colab import drive\n",
        "drive.mount('/content/drive')"
      ]
    },
    {
      "cell_type": "markdown",
      "metadata": {
        "id": "SreUdfkW4SOW"
      },
      "source": [
        "# 汎用関数の定義"
      ]
    },
    {
      "cell_type": "code",
      "execution_count": 3,
      "metadata": {
        "id": "DyaBowo-lnvT"
      },
      "outputs": [],
      "source": [
        "#乱数の固定化\n",
        "\n",
        "def seed_everything(seed: int = 42):\n",
        "    random.seed(seed)\n",
        "    np.random.seed(seed)\n",
        "    os.environ[\"PYTHONHASHSEED\"] = str(seed)\n",
        "\n",
        "    if \"torch\" in sys.modules:\n",
        "        torch.manual_seed(seed)\n",
        "        torch.cuda.manual_seed_all(seed)\n",
        "        torch.backends.cudnn.deterministic = True\n",
        "        torch.backends.cudnn.benchmark = False\n",
        "\n",
        "seed_everything(42)"
      ]
    },
    {
      "cell_type": "code",
      "execution_count": 4,
      "metadata": {
        "id": "Y32W_NUKR6Lp"
      },
      "outputs": [],
      "source": [
        "def load_data():\n",
        "    print(\"Loading Cora dataset...\")\n",
        "    raw_nodes_data = np.genfromtxt('/content/drive/My Drive/Colab Notebooks/cora.content', dtype=\"str\")\n",
        "    print(raw_nodes_data)\n",
        "    raw_node_ids = raw_nodes_data[:, 0].astype('int32')  # 各行の一列目に格納されてるノードIDを抽出\n",
        "    #print(raw_node_ids)\n",
        "    raw_node_labels = raw_nodes_data[:, -1]# 各行の最終列に格納されてるラベルを抽出．このラベルが予測ターゲット\n",
        "    #print(raw_node_labels)\n",
        "\n",
        "    unique = list(set(raw_node_labels))\n",
        "    #print(unique)\n",
        "    labels_enumerated = np.array([unique.index(label) for label in raw_node_labels])\n",
        "    #print(labels_enumerated)\n",
        "    node_features = sparse.csr_matrix(raw_nodes_data[:, 1:-1], dtype=\"float32\")\n",
        "    #print(node_features)\n",
        "\n",
        "    ids_ordered = {raw_id: order for order, raw_id in enumerate(raw_node_ids)} #実際のノードIDを0から節点数-1に対応付け\n",
        "    #print(ids_ordered)\n",
        "    raw_edges_data = np.genfromtxt('/content/drive/My Drive/Colab Notebooks/cora.cites', dtype=\"int32\")\n",
        "    #print(raw_edges_data)\n",
        "    edges = np.array(list(map(ids_ordered.get, raw_edges_data.flatten())), dtype='int32').reshape(raw_edges_data.shape) # 実際のノードIDを変換. reshapeでデータ構造を元の枝ファイルと同様に変更．\n",
        "    #print(edges)\n",
        "\n",
        "    adj = sparse.coo_matrix((np.ones(edges.shape[0]), (edges[:, 0], edges[:, 1])),\n",
        "                            shape=(labels_enumerated.shape[0], labels_enumerated.shape[0]),\n",
        "                            dtype=np.float32)\n",
        "    #print(adj)\n",
        "\n",
        "    adj = adj + adj.T.multiply(adj.T > adj) #隣接行列を対象に変更 (つまり，無向グラフに変換)\n",
        "    #print(adj)\n",
        "\n",
        "    adj = adj + sparse.eye(adj.shape[0]) #対角成分に1を挿入\n",
        "\n",
        "    node_degrees = np.array(adj.sum(1)) #列毎の総和を計算する（つまり，次数を計算する）\n",
        "    #print(node_degrees)\n",
        "\n",
        "    node_degrees = np.power(node_degrees, -0.5).flatten()\n",
        "    #print(node_degrees)\n",
        "\n",
        "    degree_matrix = sparse.diags(node_degrees, dtype=np.float32)\n",
        "    print(degree_matrix)\n",
        "\n",
        "    adj = degree_matrix @ adj @ degree_matrix #行列の積を計算．\n",
        "    #torch.spmm(degree_matrix,torch.spmm(adj,degree_matrix))\n",
        "\n",
        "    print(adj)\n",
        "\n",
        "    features = torch.FloatTensor(node_features.toarray())\n",
        "    labels = torch.LongTensor(labels_enumerated)\n",
        "    adj = torch.FloatTensor(np.array(adj.todense()))\n",
        "\n",
        "    return features, labels, adj, edges"
      ]
    },
    {
      "cell_type": "code",
      "execution_count": 5,
      "metadata": {
        "id": "C7AQDD874p7L"
      },
      "outputs": [],
      "source": [
        "def visualize_embedding_tSNE(labels, y_pred, num_classes):\n",
        "\n",
        "    cora_label_to_color_map = {0: \"red\", 1: \"blue\", 2: \"green\", 3: \"orange\", 4: \"yellow\", 5: \"pink\", 6: \"gray\"}\n",
        "\n",
        "    node_labels = labels.cpu().numpy()\n",
        "    out_features = y_pred.detach().cpu().numpy()\n",
        "    t_sne_embeddings = TSNE(n_components=2, perplexity=30, method='barnes_hut').fit_transform(out_features)\n",
        "\n",
        "    plt.figure()\n",
        "    for class_id in range(num_classes):\n",
        "        plt.scatter(t_sne_embeddings[node_labels == class_id, 0],\n",
        "                    t_sne_embeddings[node_labels == class_id, 1], s=20,\n",
        "                    color=cora_label_to_color_map[class_id],\n",
        "                    edgecolors='black', linewidths=0.15)\n",
        "\n",
        "    plt.axis(\"off\")\n",
        "    plt.title(\"Visualizing t-SNE\")\n",
        "    plt.show()"
      ]
    },
    {
      "cell_type": "markdown",
      "metadata": {
        "id": "_HhyeJ8cbi4k"
      },
      "source": [
        "# モデル定義"
      ]
    },
    {
      "cell_type": "code",
      "execution_count": 6,
      "metadata": {
        "id": "Icbs8olpQ0o6"
      },
      "outputs": [],
      "source": [
        "class GraphAttentionLayer(nn.Module):\n",
        "\n",
        "    def __init__(self, in_features, out_features, dropout, alpha, final=False, add_bias=True):\n",
        "        super(GraphAttentionLayer, self).__init__()\n",
        "        self.dropout = dropout\n",
        "        self.in_features = in_features\n",
        "        self.out_features = out_features\n",
        "        self.alpha = alpha\n",
        "        self.final = final\n",
        "        self.add_bias = add_bias  # バイアス設定の追加\n",
        "\n",
        "        self.W = nn.Parameter(torch.empty(size=(in_features, out_features)))\n",
        "        nn.init.xavier_uniform_(self.W.data, gain=1.414) # Xavierの方法により初期化．どんな方法でもよい\n",
        "\n",
        "        # バイアス項の追加制御\n",
        "        if self.add_bias:\n",
        "            self.bias = nn.Parameter(torch.zeros(out_features))\n",
        "        else:\n",
        "            self.register_parameter('bias', None)\n",
        "\n",
        "        self.a = nn.Parameter(torch.empty(size=(2*out_features, 1)))\n",
        "        nn.init.xavier_uniform_(self.a.data, gain=1.414) # Xavierの方法により初期化．どんな方法でもよい\n",
        "\n",
        "        self.leakyrelu = nn.LeakyReLU(self.alpha) # Attention計算用のLeakyReLu関数\n",
        "\n",
        "    def forward(self, h, adj): #hはNNへの入力行列\n",
        "        Wh = torch.mm(h, self.W)\n",
        "\n",
        "        # バイアス項の適用\n",
        "        if self.add_bias:\n",
        "            Wh = Wh + self.bias\n",
        "\n",
        "        e = self._prepare_attentional_mechanism_input(Wh)\n",
        "\n",
        "        zero_vec = -9e15*torch.ones_like(e)\n",
        "        attention = torch.where(adj > 0, e, zero_vec) # 枝がないところは attentionを0にする\n",
        "        attention = F.softmax(attention, dim=1) # dim=1は行単位でのsoftmax\n",
        "        attention = F.dropout(attention, self.dropout, training=self.training)\n",
        "        h_prime = torch.matmul(attention, Wh) # attentionの値を掛けた値の和を出力にする\n",
        "\n",
        "        if self.final:\n",
        "            return h_prime #最終層の場合, 活性化関数無し\n",
        "        else:\n",
        "            return F.elu(h_prime) #最終層以外は活性化関数 elu\n",
        "\n",
        "    def _prepare_attentional_mechanism_input(self, Wh):\n",
        "\n",
        "        Wh1 = torch.matmul(Wh, self.a[:self.out_features, :]) #左側 (N,1)次元行列\n",
        "        Wh2 = torch.matmul(Wh, self.a[self.out_features:, :]) #右側 (N,1)次元行列\n",
        "        #print(Wh1)\n",
        "        #print(Wh2)\n",
        "        e = Wh1 + Wh2.T # broadcast add. (N,N)次元行列. 全ての節点ペアのeを計算\n",
        "        #print(e)\n",
        "\n",
        "        return self.leakyrelu(e)\n",
        "\n",
        "    def __repr__(self):\n",
        "        return self.__class__.__name__ + ' (' + str(self.in_features) + ' -> ' + str(self.out_features) + ')'\n"
      ]
    },
    {
      "cell_type": "markdown",
      "metadata": {
        "id": "6GlboP_1QwdZ"
      },
      "source": []
    },
    {
      "cell_type": "code",
      "execution_count": 7,
      "metadata": {
        "id": "1OFbuEB5RyNY"
      },
      "outputs": [],
      "source": [
        "class GAT(nn.Module):\n",
        "    def __init__(self, nfeat, nhid, nclass, dropout, alpha, nheads_list, add_bias=True):\n",
        "        \"\"\"\n",
        "        3層GAT構成\n",
        "        nheads_list: [第1層heads, 第2層heads, 第3層heads] 例: [8, 8, 1]\n",
        "        \"\"\"\n",
        "        super(GAT, self).__init__()\n",
        "        self.dropout = dropout\n",
        "        self.nheads_list = nheads_list\n",
        "        \n",
        "        # 入力Dropout\n",
        "        self.input_dropout = nn.Dropout(dropout)\n",
        "        \n",
        "        # 第1層: input -> hidden\n",
        "        self.attentions_1 = [GraphAttentionLayer(nfeat, nhid, dropout=dropout, alpha=alpha, final=False, add_bias=add_bias) \n",
        "                            for _ in range(nheads_list[0])]\n",
        "        for i, attention in enumerate(self.attentions_1):\n",
        "            self.add_module('attention_1_{}'.format(i), attention)\n",
        "        \n",
        "        # 第1層後の正規化\n",
        "        self.bn1 = nn.BatchNorm1d(nhid * nheads_list[0])\n",
        "        \n",
        "        # 第2層: hidden -> hidden\n",
        "        self.attentions_2 = [GraphAttentionLayer(nhid * nheads_list[0], nhid, dropout=dropout, alpha=alpha, final=False, add_bias=add_bias) \n",
        "                            for _ in range(nheads_list[1])]\n",
        "        for i, attention in enumerate(self.attentions_2):\n",
        "            self.add_module('attention_2_{}'.format(i), attention)\n",
        "        \n",
        "        # 第2層後の正規化\n",
        "        self.bn2 = nn.BatchNorm1d(nhid * nheads_list[1])\n",
        "        \n",
        "        # 第3層: hidden -> output (concat=False, 平均融合)\n",
        "        self.out_att = GraphAttentionLayer(nhid * nheads_list[1], nclass, dropout=dropout, alpha=alpha, final=True, add_bias=add_bias)\n",
        "        \n",
        "        # パラメータ数計算用\n",
        "        self.nfeat = nfeat\n",
        "        self.nhid = nhid\n",
        "        self.nclass = nclass\n",
        "\n",
        "    def forward(self, x, adj):\n",
        "        # 入力にDropout適用\n",
        "        x = self.input_dropout(x)\n",
        "        \n",
        "        # 第1層\n",
        "        x = torch.cat([att(x, adj) for att in self.attentions_1], dim=1)\n",
        "        x = self.bn1(x)\n",
        "        x = F.relu(x)\n",
        "        x = F.dropout(x, self.dropout, training=self.training)\n",
        "        \n",
        "        # 第2層\n",
        "        x = torch.cat([att(x, adj) for att in self.attentions_2], dim=1)\n",
        "        x = self.bn2(x)\n",
        "        x = F.relu(x)\n",
        "        x = F.dropout(x, self.dropout, training=self.training)\n",
        "        \n",
        "        # 第3層（出力層）\n",
        "        x = self.out_att(x, adj)\n",
        "        return F.log_softmax(x, dim=1)\n",
        "    \n",
        "    def count_parameters(self):\n",
        "        \"\"\"パラメータ数を計算\"\"\"\n",
        "        return sum(p.numel() for p in self.parameters() if p.requires_grad)"
      ]
    },
    {
      "cell_type": "raw",
      "metadata": {
        "id": "xTNXnLCenKCA",
        "vscode": {
          "languageId": "raw"
        }
      },
      "source": [
        "# EarlyStoppingクラスの定義\n"
      ]
    },
    {
      "cell_type": "code",
      "execution_count": 8,
      "metadata": {
        "id": "1LUtxN0inKCB"
      },
      "outputs": [],
      "source": [
        "class EarlyStopping:\n",
        "    def __init__(self, patience=10, min_delta=1e-4, restore_best_weights=True):\n",
        "        self.patience = patience\n",
        "        self.min_delta = min_delta\n",
        "        self.restore_best_weights = restore_best_weights\n",
        "\n",
        "        self.best_loss = None\n",
        "        self.counter = 0\n",
        "        self.best_weights = None\n",
        "\n",
        "    def __call__(self, val_loss, model):\n",
        "        if self.best_loss is None:\n",
        "            self.best_loss = val_loss\n",
        "            if self.restore_best_weights:\n",
        "                self.best_weights = copy.deepcopy(model.state_dict())\n",
        "        elif val_loss < self.best_loss - self.min_delta:\n",
        "            self.best_loss = val_loss\n",
        "            self.counter = 0\n",
        "            if self.restore_best_weights:\n",
        "                self.best_weights = copy.deepcopy(model.state_dict())\n",
        "        else:\n",
        "            self.counter += 1\n",
        "\n",
        "        if self.counter >= self.patience:\n",
        "            if self.restore_best_weights:\n",
        "                model.load_state_dict(self.best_weights)\n",
        "            return True\n",
        "        return False\n"
      ]
    },
    {
      "cell_type": "markdown",
      "metadata": {
        "id": "pJbodD_mbtN6"
      },
      "source": [
        "# グラフデータ読み込み"
      ]
    },
    {
      "cell_type": "markdown",
      "metadata": {
        "id": "Uqd1V1XNSXvj"
      },
      "source": [
        "グラフ読み込み"
      ]
    },
    {
      "cell_type": "code",
      "execution_count": 9,
      "metadata": {
        "colab": {
          "base_uri": "https://localhost:8080/"
        },
        "id": "iCHWqvnDGLkT",
        "outputId": "e3add2f3-b202-413a-aa80-8273797009f8"
      },
      "outputs": [
        {
          "name": "stdout",
          "output_type": "stream",
          "text": [
            "Loading Cora dataset...\n",
            "[['31336' '0' '0' ... '0' '0' 'Neural_Networks']\n",
            " ['1061127' '0' '0' ... '0' '0' 'Rule_Learning']\n",
            " ['1106406' '0' '0' ... '0' '0' 'Reinforcement_Learning']\n",
            " ...\n",
            " ['1128978' '0' '0' ... '0' '0' 'Genetic_Algorithms']\n",
            " ['117328' '0' '0' ... '0' '0' 'Case_Based']\n",
            " ['24043' '0' '0' ... '0' '0' 'Neural_Networks']]\n",
            "<DIAgonal sparse matrix of dtype 'float32'\n",
            "\twith 2708 stored elements (1 diagonals) and shape (2708, 2708)>\n",
            "  Coords\tValues\n",
            "  (0, 0)\t0.40824830532073975\n",
            "  (1, 1)\t0.7071067690849304\n",
            "  (2, 2)\t0.4472135901451111\n",
            "  (3, 3)\t0.5\n",
            "  (4, 4)\t0.7071067690849304\n",
            "  (5, 5)\t0.5773502588272095\n",
            "  (6, 6)\t0.5773502588272095\n",
            "  (7, 7)\t0.7071067690849304\n",
            "  (8, 8)\t0.40824830532073975\n",
            "  (9, 9)\t0.4472135901451111\n",
            "  (10, 10)\t0.40824830532073975\n",
            "  (11, 11)\t0.5773502588272095\n",
            "  (12, 12)\t0.5773502588272095\n",
            "  (13, 13)\t0.5\n",
            "  (14, 14)\t0.22360679507255554\n",
            "  (15, 15)\t0.30151134729385376\n",
            "  (16, 16)\t0.4472135901451111\n",
            "  (17, 17)\t0.7071067690849304\n",
            "  (18, 18)\t0.3535533845424652\n",
            "  (19, 19)\t0.5773502588272095\n",
            "  (20, 20)\t0.40824830532073975\n",
            "  (21, 21)\t0.4472135901451111\n",
            "  (22, 22)\t0.40824830532073975\n",
            "  (23, 23)\t0.5773502588272095\n",
            "  (24, 24)\t0.5773502588272095\n",
            "  :\t:\n",
            "  (2683, 2683)\t0.4472135901451111\n",
            "  (2684, 2684)\t0.7071067690849304\n",
            "  (2685, 2685)\t0.5773502588272095\n",
            "  (2686, 2686)\t0.5\n",
            "  (2687, 2687)\t0.5\n",
            "  (2688, 2688)\t0.4472135901451111\n",
            "  (2689, 2689)\t0.5773502588272095\n",
            "  (2690, 2690)\t0.5773502588272095\n",
            "  (2691, 2691)\t0.7071067690849304\n",
            "  (2692, 2692)\t0.5\n",
            "  (2693, 2693)\t0.7071067690849304\n",
            "  (2694, 2694)\t0.4472135901451111\n",
            "  (2695, 2695)\t0.5\n",
            "  (2696, 2696)\t0.4472135901451111\n",
            "  (2697, 2697)\t0.4472135901451111\n",
            "  (2698, 2698)\t0.5\n",
            "  (2699, 2699)\t0.7071067690849304\n",
            "  (2700, 2700)\t0.5773502588272095\n",
            "  (2701, 2701)\t0.5773502588272095\n",
            "  (2702, 2702)\t0.5773502588272095\n",
            "  (2703, 2703)\t0.5\n",
            "  (2704, 2704)\t0.5773502588272095\n",
            "  (2705, 2705)\t0.4472135901451111\n",
            "  (2706, 2706)\t0.4472135901451111\n",
            "  (2707, 2707)\t0.5\n",
            "<Compressed Sparse Row sparse matrix of dtype 'float64'\n",
            "\twith 13264 stored elements and shape (2708, 2708)>\n",
            "  Coords\tValues\n",
            "  (0, 0)\t0.16666667879725594\n",
            "  (0, 8)\t0.16666667879725594\n",
            "  (0, 14)\t0.09128709514657274\n",
            "  (0, 258)\t0.11785113237134937\n",
            "  (0, 435)\t0.16666667879725594\n",
            "  (0, 544)\t0.18257419029314548\n",
            "  (1, 1)\t0.4999999828857291\n",
            "  (1, 344)\t0.12499999572143228\n",
            "  (2, 2)\t0.1999999952104794\n",
            "  (2, 410)\t0.18257419029314548\n",
            "  (2, 471)\t0.1581138784091909\n",
            "  (2, 552)\t0.06819943435231757\n",
            "  (2, 565)\t0.05031545931958359\n",
            "  (3, 3)\t0.25\n",
            "  (3, 197)\t0.22360679507255554\n",
            "  (3, 463)\t0.20412415266036987\n",
            "  (3, 601)\t0.20412415266036987\n",
            "  (4, 4)\t0.4999999828857291\n",
            "  (4, 170)\t0.4082482761496564\n",
            "  (5, 5)\t0.33333332136784577\n",
            "  (5, 490)\t0.2041241380748282\n",
            "  (5, 2164)\t0.23570226474269873\n",
            "  (6, 6)\t0.33333332136784577\n",
            "  (6, 251)\t0.192450092011196\n",
            "  (6, 490)\t0.2041241380748282\n",
            "  :\t:\n",
            "  (2701, 2701)\t0.33333332136784577\n",
            "  (2702, 881)\t0.14907119430171534\n",
            "  (2702, 2624)\t0.2041241380748282\n",
            "  (2702, 2702)\t0.33333332136784577\n",
            "  (2703, 1221)\t0.25\n",
            "  (2703, 1409)\t0.1767766922712326\n",
            "  (2703, 2200)\t0.22360679507255554\n",
            "  (2703, 2703)\t0.25\n",
            "  (2704, 209)\t0.28867512941360474\n",
            "  (2704, 2407)\t0.33333332136784577\n",
            "  (2704, 2704)\t0.33333332136784577\n",
            "  (2705, 1784)\t0.1490712011577049\n",
            "  (2705, 1839)\t0.22360679507255554\n",
            "  (2705, 1840)\t0.25819888202132546\n",
            "  (2705, 2216)\t0.22360679507255554\n",
            "  (2705, 2705)\t0.1999999952104794\n",
            "  (2706, 1046)\t0.18257419029314548\n",
            "  (2706, 1138)\t0.16903084614948405\n",
            "  (2706, 1640)\t0.16903084614948405\n",
            "  (2706, 1752)\t0.3162277568183818\n",
            "  (2706, 2706)\t0.1999999952104794\n",
            "  (2707, 774)\t0.25\n",
            "  (2707, 1389)\t0.22360679507255554\n",
            "  (2707, 2344)\t0.3535533845424652\n",
            "  (2707, 2707)\t0.25\n"
          ]
        }
      ],
      "source": [
        "features, labels, adj, edges = load_data()"
      ]
    },
    {
      "cell_type": "code",
      "execution_count": 10,
      "metadata": {
        "colab": {
          "base_uri": "https://localhost:8080/"
        },
        "id": "YnC9YsmrGuK_",
        "outputId": "13623c86-11da-40a4-ca2b-6e700781c44d"
      },
      "outputs": [
        {
          "name": "stdout",
          "output_type": "stream",
          "text": [
            "tensor([[0., 0., 0.,  ..., 0., 0., 0.],\n",
            "        [0., 0., 0.,  ..., 0., 0., 0.],\n",
            "        [0., 0., 0.,  ..., 0., 0., 0.],\n",
            "        ...,\n",
            "        [0., 0., 0.,  ..., 0., 0., 0.],\n",
            "        [0., 0., 0.,  ..., 0., 0., 0.],\n",
            "        [0., 0., 0.,  ..., 0., 0., 0.]])\n",
            "tensor([2, 4, 1,  ..., 3, 5, 2])\n",
            "tensor([[0.1667, 0.0000, 0.0000,  ..., 0.0000, 0.0000, 0.0000],\n",
            "        [0.0000, 0.5000, 0.0000,  ..., 0.0000, 0.0000, 0.0000],\n",
            "        [0.0000, 0.0000, 0.2000,  ..., 0.0000, 0.0000, 0.0000],\n",
            "        ...,\n",
            "        [0.0000, 0.0000, 0.0000,  ..., 0.2000, 0.0000, 0.0000],\n",
            "        [0.0000, 0.0000, 0.0000,  ..., 0.0000, 0.2000, 0.0000],\n",
            "        [0.0000, 0.0000, 0.0000,  ..., 0.0000, 0.0000, 0.2500]])\n",
            "[[ 163  402]\n",
            " [ 163  659]\n",
            " [ 163 1696]\n",
            " ...\n",
            " [1887 2258]\n",
            " [1902 1887]\n",
            " [ 837 1686]]\n"
          ]
        }
      ],
      "source": [
        "print(features)\n",
        "print(labels)\n",
        "print(adj)\n",
        "print(edges)"
      ]
    },
    {
      "cell_type": "markdown",
      "metadata": {
        "id": "vEQNIZqib0ui"
      },
      "source": [
        "# 学習準備"
      ]
    },
    {
      "cell_type": "code",
      "execution_count": 11,
      "metadata": {
        "id": "7wIusQFtG00L"
      },
      "outputs": [],
      "source": [
        "num_classes = int(labels.max().item() + 1)\n",
        "train_size_per_class=20\n",
        "validation_size=500\n",
        "test_size=1000\n",
        "classes = [ind for ind in range(num_classes)]\n",
        "train_set = []\n",
        "\n",
        "# Construct train set (indices) out of 20 samples per each class\n",
        "for class_label in classes:\n",
        "    target_indices = torch.nonzero(labels == class_label, as_tuple=False).tolist()\n",
        "    train_set += [ind[0] for ind in target_indices[:train_size_per_class]]\n",
        "\n",
        "# Extract the remaining samples\n",
        "validation_test_set = [ind for ind in range(len(labels)) if ind not in train_set]\n",
        "# Split the remaining samples into validation/test set\n",
        "validation_set = validation_test_set[:validation_size]\n",
        "test_set = validation_test_set[validation_size:validation_size+test_size]"
      ]
    },
    {
      "cell_type": "raw",
      "metadata": {
        "id": "Ey9bIKaVnKCE",
        "vscode": {
          "languageId": "raw"
        }
      },
      "source": [
        "# 実験設定と複数の実験実行\n"
      ]
    },
    {
      "cell_type": "code",
      "execution_count": 12,
      "metadata": {
        "id": "Uux9WP6gnKCF"
      },
      "outputs": [],
      "source": [
        "# 精度最大化設定\n",
        "print(\"=== 精度最大化GAT設定 ===\")\n",
        "\n",
        "# モデルパラメータ\n",
        "hidden_dim = 32\n",
        "alpha = 0.2\n",
        "dropout = 0.6  # 高いDropout率\n",
        "nheads_list = [8, 8, 1]  # [第1層, 第2層, 第3層] heads\n",
        "add_bias = True\n",
        "\n",
        "# 学習パラメータ\n",
        "lr = 0.005  # 高い学習率\n",
        "weight_decay = 5e-4  # 高い重み減衰\n",
        "max_epochs = 300\n",
        "early_stopping_patience = 30  # 長いpatience\n",
        "min_delta = 1e-4\n",
        "\n",
        "print(f\"モデル構成: 3層GAT\")\n",
        "print(f\"Multi-head設定: {nheads_list}\")\n",
        "print(f\"隠れ層次元: {hidden_dim}\")\n",
        "print(f\"Dropout率: {dropout}\")\n",
        "print(f\"学習率: {lr}\")\n",
        "print(f\"重み減衰: {weight_decay}\")\n",
        "print(f\"Early Stopping patience: {early_stopping_patience}\")\n",
        "print(\"=\" * 40)\n"
      ]
    },
    {
      "cell_type": "code",
      "execution_count": 13,
      "metadata": {
        "colab": {
          "base_uri": "https://localhost:8080/"
        },
        "id": "1Xuz5n-sK4Ft",
        "outputId": "3be63e28-b865-4f64-ec58-2a942a90b447"
      },
      "outputs": [
        {
          "name": "stdout",
          "output_type": "stream",
          "text": [
            "GAT(\n",
            "  (attention_0): GraphAttentionLayer (1433 -> 32)\n",
            "  (attention_1): GraphAttentionLayer (1433 -> 32)\n",
            "  (attention_2): GraphAttentionLayer (1433 -> 32)\n",
            "  (attention_3): GraphAttentionLayer (1433 -> 32)\n",
            "  (out_att): GraphAttentionLayer (128 -> 7)\n",
            ")\n"
          ]
        }
      ],
      "source": [
        "# 3層GAT精度最大化モデルの作成\n",
        "model = GAT(nfeat=features.shape[1],\n",
        "            nhid=hidden_dim,\n",
        "            nclass=num_classes,\n",
        "            dropout=dropout,\n",
        "            alpha=alpha,\n",
        "            nheads_list=nheads_list,\n",
        "            add_bias=add_bias)\n",
        "\n",
        "print(\"=== モデル構造 ===\")\n",
        "print(model)\n",
        "print(f\"\\n総パラメータ数: {model.count_parameters():,}\")\n",
        "\n",
        "# 各層のパラメータ数詳細\n",
        "print(f\"\\n=== 層別パラメータ数 ===\")\n",
        "print(f\"入力次元: {features.shape[1]}\")\n",
        "print(f\"隠れ層次元: {hidden_dim}\")\n",
        "print(f\"出力次元: {num_classes}\")\n",
        "print(f\"第1層 ({nheads_list[0]} heads): {features.shape[1]} -> {hidden_dim}\")\n",
        "print(f\"第2層 ({nheads_list[1]} heads): {hidden_dim * nheads_list[0]} -> {hidden_dim}\")\n",
        "print(f\"第3層 ({nheads_list[2]} heads): {hidden_dim * nheads_list[1]} -> {num_classes}\")\n",
        "print(\"=\" * 40)"
      ]
    },
    {
      "cell_type": "code",
      "execution_count": 14,
      "metadata": {
        "id": "5sf7t7i5K73R"
      },
      "outputs": [],
      "source": [
        "# デバイス設定とオプティマイザー\n",
        "if torch.cuda.is_available():\n",
        "    print(\"CUDA利用可能 - GPUで学習を実行\")\n",
        "    model.cuda()\n",
        "    adj = adj.cuda()\n",
        "    features = features.cuda()\n",
        "    labels = labels.cuda()\n",
        "else:\n",
        "    print(\"CPUで学習を実行\")\n",
        "\n",
        "# 精度最大化用の最適化設定\n",
        "optimizer = torch.optim.Adam(model.parameters(), \n",
        "                           lr=lr, \n",
        "                           weight_decay=weight_decay)\n",
        "criterion = nn.CrossEntropyLoss()\n",
        "\n",
        "# EarlyStopping初期化\n",
        "early_stopping = EarlyStopping(patience=early_stopping_patience, \n",
        "                              min_delta=min_delta, \n",
        "                              restore_best_weights=True)\n",
        "\n",
        "print(f\"最適化器: Adam (lr={lr}, weight_decay={weight_decay})\")\n",
        "print(f\"損失関数: CrossEntropyLoss\")\n",
        "print(f\"Early Stopping: patience={early_stopping_patience}, min_delta={min_delta}\")\n",
        "print(\"=\" * 40)\n"
      ]
    },
    {
      "cell_type": "code",
      "execution_count": 15,
      "metadata": {
        "id": "nNfairSCM19b"
      },
      "outputs": [],
      "source": [
        "def accuracy(output, labels):\n",
        "    y_pred = output.max(1)[1].type_as(labels)\n",
        "    correct = y_pred.eq(labels).double()\n",
        "    correct = correct.sum()\n",
        "    return correct / len(labels)"
      ]
    },
    {
      "cell_type": "markdown",
      "metadata": {
        "id": "Ku5lP2rAb8zk"
      },
      "source": [
        "# モデル学習"
      ]
    },
    {
      "cell_type": "code",
      "execution_count": 16,
      "metadata": {
        "colab": {
          "base_uri": "https://localhost:8080/"
        },
        "id": "0bFqbXUgL_He",
        "outputId": "7727c2aa-88b4-4a04-93fd-7ef3ba567581"
      },
      "outputs": [
        {
          "name": "stdout",
          "output_type": "stream",
          "text": [
            "Epoch:    0 | Train loss: 1.961 | Train acc: 0.21 | Val loss: 2.015 | Val acc: 0.12\n",
            "Epoch:   10 | Train loss: 1.842 | Train acc: 0.34 | Val loss: 1.947 | Val acc: 0.17\n",
            "Epoch:   20 | Train loss: 1.760 | Train acc: 0.42 | Val loss: 1.866 | Val acc: 0.29\n",
            "Epoch:   30 | Train loss: 1.671 | Train acc: 0.54 | Val loss: 1.811 | Val acc: 0.35\n",
            "Epoch:   40 | Train loss: 1.593 | Train acc: 0.70 | Val loss: 1.735 | Val acc: 0.49\n",
            "Epoch:   50 | Train loss: 1.457 | Train acc: 0.76 | Val loss: 1.691 | Val acc: 0.53\n",
            "Epoch:   60 | Train loss: 1.453 | Train acc: 0.80 | Val loss: 1.654 | Val acc: 0.60\n",
            "Epoch:   70 | Train loss: 1.367 | Train acc: 0.85 | Val loss: 1.616 | Val acc: 0.62\n",
            "Epoch:   80 | Train loss: 1.295 | Train acc: 0.86 | Val loss: 1.555 | Val acc: 0.65\n",
            "Epoch:   90 | Train loss: 1.221 | Train acc: 0.87 | Val loss: 1.515 | Val acc: 0.68\n",
            "Epoch:  100 | Train loss: 1.178 | Train acc: 0.91 | Val loss: 1.474 | Val acc: 0.71\n",
            "Epoch:  110 | Train loss: 1.129 | Train acc: 0.89 | Val loss: 1.451 | Val acc: 0.71\n",
            "Epoch:  120 | Train loss: 1.062 | Train acc: 0.90 | Val loss: 1.387 | Val acc: 0.73\n",
            "Epoch:  130 | Train loss: 0.993 | Train acc: 0.91 | Val loss: 1.366 | Val acc: 0.71\n",
            "Epoch:  140 | Train loss: 0.966 | Train acc: 0.89 | Val loss: 1.304 | Val acc: 0.73\n",
            "Epoch:  150 | Train loss: 0.898 | Train acc: 0.91 | Val loss: 1.284 | Val acc: 0.73\n",
            "Epoch:  160 | Train loss: 0.831 | Train acc: 0.92 | Val loss: 1.250 | Val acc: 0.73\n",
            "Epoch:  170 | Train loss: 0.796 | Train acc: 0.92 | Val loss: 1.245 | Val acc: 0.74\n",
            "Epoch:  180 | Train loss: 0.767 | Train acc: 0.94 | Val loss: 1.198 | Val acc: 0.76\n",
            "Epoch:  190 | Train loss: 0.719 | Train acc: 0.93 | Val loss: 1.173 | Val acc: 0.75\n",
            "Epoch:  200 | Train loss: 0.690 | Train acc: 0.96 | Val loss: 1.177 | Val acc: 0.76\n",
            "Epoch:  210 | Train loss: 0.683 | Train acc: 0.96 | Val loss: 1.137 | Val acc: 0.75\n",
            "Epoch:  220 | Train loss: 0.603 | Train acc: 0.96 | Val loss: 1.136 | Val acc: 0.76\n",
            "Epoch:  230 | Train loss: 0.630 | Train acc: 0.92 | Val loss: 1.068 | Val acc: 0.76\n",
            "Epoch:  240 | Train loss: 0.599 | Train acc: 0.96 | Val loss: 1.049 | Val acc: 0.76\n",
            "Epoch:  250 | Train loss: 0.543 | Train acc: 0.96 | Val loss: 1.052 | Val acc: 0.79\n",
            "Epoch:  260 | Train loss: 0.526 | Train acc: 0.94 | Val loss: 1.057 | Val acc: 0.76\n",
            "Epoch:  270 | Train loss: 0.577 | Train acc: 0.95 | Val loss: 1.012 | Val acc: 0.77\n",
            "Epoch:  280 | Train loss: 0.488 | Train acc: 0.95 | Val loss: 1.084 | Val acc: 0.75\n",
            "Epoch:  290 | Train loss: 0.502 | Train acc: 0.97 | Val loss: 1.068 | Val acc: 0.76\n",
            "Total training time: 175.75 seconds\n"
          ]
        }
      ],
      "source": [
        "# 学習履歴記録用\n",
        "validation_acc = []\n",
        "validation_loss = []\n",
        "training_acc = []\n",
        "training_loss = []\n",
        "\n",
        "print(\"=== 学習開始 ===\")\n",
        "print(f\"最大エポック数: {max_epochs}\")\n",
        "print(f\"Early Stopping: 有効 (patience={early_stopping_patience})\")\n",
        "print(\"=\" * 40)\n",
        "\n",
        "# 学習時間計測開始\n",
        "t_start = time.time()\n",
        "stopped_early = False\n",
        "\n",
        "for epoch in range(max_epochs):\n",
        "    # 訓練フェーズ\n",
        "    model.train()\n",
        "    optimizer.zero_grad()\n",
        "    \n",
        "    output = model(features, adj)\n",
        "    train_loss = criterion(output[train_set], labels[train_set])\n",
        "    train_acc = accuracy(output[train_set], labels[train_set])\n",
        "    \n",
        "    train_loss.backward()\n",
        "    optimizer.step()\n",
        "    \n",
        "    # 検証フェーズ\n",
        "    model.eval()\n",
        "    with torch.no_grad():\n",
        "        output = model(features, adj)\n",
        "        val_loss = criterion(output[validation_set], labels[validation_set])\n",
        "        val_acc = accuracy(output[validation_set], labels[validation_set])\n",
        "    \n",
        "    # 履歴記録\n",
        "    training_loss.append(train_loss.item())\n",
        "    training_acc.append(train_acc.item())\n",
        "    validation_loss.append(val_loss.item())\n",
        "    validation_acc.append(val_acc.item())\n",
        "    \n",
        "    # Early Stopping チェック\n",
        "    if early_stopping(val_loss, model):\n",
        "        print(f\"EARLY STOPPING: エポック {epoch+1} で停止\")\n",
        "        stopped_early = True\n",
        "        break\n",
        "    \n",
        "    # 進捗表示（20エポック毎）\n",
        "    if epoch % 20 == 0:\n",
        "        print(f\"Epoch: {epoch:4d} | Train loss: {train_loss.item():.3f} | \"\n",
        "              f\"Train acc: {train_acc:.3f} | Val loss: {val_loss.item():.3f} | \"\n",
        "              f\"Val acc: {val_acc:.3f}\")\n",
        "\n",
        "# 学習時間計測終了\n",
        "t_end = time.time()\n",
        "\n",
        "if not stopped_early:\n",
        "    print(f\"学習完了: 全 {max_epochs} エポック実行\")\n",
        "    \n",
        "print(f\"学習時間: {t_end-t_start:.2f}秒\")\n",
        "print(f\"最終検証精度: {validation_acc[-1]:.3f}\")\n",
        "print(\"=\" * 40)"
      ]
    },
    {
      "cell_type": "markdown",
      "metadata": {
        "id": "DG5BGRp4cLgi"
      },
      "source": [
        "# テスト精度の検証"
      ]
    },
    {
      "cell_type": "code",
      "execution_count": 17,
      "metadata": {
        "colab": {
          "base_uri": "https://localhost:8080/"
        },
        "id": "9kvWbCGINmAw",
        "outputId": "7667e642-2df4-4ca0-fd65-3efb564b29c7"
      },
      "outputs": [
        {
          "name": "stdout",
          "output_type": "stream",
          "text": [
            "Test loss: 0.942  |  Test acc: 0.79\n"
          ]
        }
      ],
      "source": [
        "# 最終テスト精度の評価\n",
        "print(\"=== 最終テスト結果 ===\")\n",
        "\n",
        "with torch.no_grad():\n",
        "    model.eval()\n",
        "    y_pred = model(features, adj)\n",
        "    test_loss = criterion(y_pred[test_set], labels[test_set])\n",
        "    test_acc = accuracy(y_pred[test_set], labels[test_set])\n",
        "\n",
        "print(f\"Test loss: {test_loss:.3f}\")\n",
        "print(f\"Test accuracy: {test_acc:.3f}\")\n",
        "print(f\"使用したモデル: 3層GAT (精度最大化版)\")\n",
        "print(f\"パラメータ数: {model.count_parameters():,}\")\n",
        "print(f\"学習時間: {t_end-t_start:.2f}秒\")\n",
        "print(f\"学習エポック数: {len(training_acc)}\")\n",
        "\n",
        "# 結果サマリー\n",
        "print(f\"\\n=== 結果サマリー ===\")\n",
        "print(f\"最終訓練精度: {training_acc[-1]:.3f}\")\n",
        "print(f\"最終検証精度: {validation_acc[-1]:.3f}\")\n",
        "print(f\"最終テスト精度: {test_acc:.3f}\")\n",
        "print(f\"モデル構成: {nheads_list} heads, dropout={dropout}\")\n",
        "print(\"=\" * 40)"
      ]
    },
    {
      "cell_type": "markdown",
      "metadata": {
        "id": "vMA7lOEAcDc9"
      },
      "source": [
        "# 学習曲線の可視化"
      ]
    },
    {
      "cell_type": "markdown",
      "metadata": {
        "id": "NaXWl1RicW57"
      },
      "source": [
        "# 学習曲線の描画\n",
        "f, axs = plt.subplots(1, 2, figsize=(15, 6))\n",
        "\n",
        "# 損失の可視化\n",
        "axs[0].plot(validation_loss, linewidth=2.5, color=\"red\", label=\"検証データ\")\n",
        "axs[0].plot(training_loss, linewidth=2.5, color=\"blue\", label=\"訓練データ\")\n",
        "axs[0].set_title(\"3層GAT精度最大化版 - 損失の推移\", fontsize=14)\n",
        "axs[0].set_ylabel(\"Cross Entropy Loss\", fontsize=12)\n",
        "axs[0].set_xlabel(\"Epoch\", fontsize=12)\n",
        "axs[0].legend()\n",
        "axs[0].grid(True, alpha=0.3)\n",
        "\n",
        "# 精度の可視化\n",
        "axs[1].plot(validation_acc, linewidth=2.5, color=\"red\", label=\"検証データ\")\n",
        "axs[1].plot(training_acc, linewidth=2.5, color=\"blue\", label=\"訓練データ\")\n",
        "axs[1].set_title(\"3層GAT精度最大化版 - 精度の推移\", fontsize=14)\n",
        "axs[1].set_ylabel(\"Accuracy\", fontsize=12)\n",
        "axs[1].set_xlabel(\"Epoch\", fontsize=12)\n",
        "axs[1].legend()\n",
        "axs[1].grid(True, alpha=0.3)\n",
        "\n",
        "plt.tight_layout()\n",
        "plt.show()\n",
        "\n",
        "print(f\"学習曲線の特徴:\")\n",
        "print(f\"- 最大検証精度: {max(validation_acc):.3f} (エポック {validation_acc.index(max(validation_acc))+1})\")\n",
        "print(f\"- 最終検証精度: {validation_acc[-1]:.3f}\")\n",
        "print(f\"- 過学習の兆候: {'あり' if training_acc[-1] - validation_acc[-1] > 0.1 else 'なし'}\")\n",
        "print(\"=\" * 40)"
      ]
    },
    {
      "cell_type": "raw",
      "metadata": {
        "vscode": {
          "languageId": "raw"
        }
      },
      "source": [
        "# t-SNE特徴量可視化\n"
      ]
    },
    {
      "cell_type": "code",
      "execution_count": null,
      "metadata": {},
      "outputs": [],
      "source": [
        "# 学習後の特徴表現をt-SNEで可視化\n",
        "print(\"=== t-SNE特徴量可視化 ===\")\n",
        "print(\"3層GAT精度最大化版の学習済み特徴表現を2次元に可視化します...\")\n",
        "\n",
        "with torch.no_grad():\n",
        "    model.eval()\n",
        "    y_pred = model(features, adj)\n",
        "    \n",
        "# t-SNE可視化\n",
        "visualize_embedding_tSNE(labels, y_pred, num_classes)\n",
        "\n",
        "print(\"可視化完了: 各色が異なるクラスを表しています\")\n",
        "print(\"クラスタリングの品質が高いほど、同じ色のノードが集まって表示されます\")\n",
        "print(\"=\" * 40)\n"
      ]
    },
    {
      "cell_type": "raw",
      "metadata": {
        "vscode": {
          "languageId": "raw"
        }
      },
      "source": [
        "# 総合結果サマリー\n"
      ]
    },
    {
      "cell_type": "code",
      "execution_count": null,
      "metadata": {},
      "outputs": [],
      "source": [
        "print(\"=\" * 60)\n",
        "print(\"3層GAT精度最大化版 - 総合結果サマリー\")\n",
        "print(\"=\" * 60)\n",
        "\n",
        "print(f\"\\n【モデル仕様】\")\n",
        "print(f\"  アーキテクチャ: 3層GAT (input → hidden → hidden → output)\")\n",
        "print(f\"  Multi-head設定: {nheads_list}\")\n",
        "print(f\"  隠れ層次元: {hidden_dim}\")\n",
        "print(f\"  Dropout率: {dropout}\")\n",
        "print(f\"  BatchNorm: 各層に適用\")\n",
        "print(f\"  入力Dropout: 有効\")\n",
        "print(f\"  総パラメータ数: {model.count_parameters():,}\")\n",
        "\n",
        "print(f\"\\n【学習設定】\")\n",
        "print(f\"  最適化器: Adam (lr={lr}, weight_decay={weight_decay})\")\n",
        "print(f\"  Early Stopping: patience={early_stopping_patience}, min_delta={min_delta}\")\n",
        "print(f\"  学習エポック数: {len(training_acc)}\")\n",
        "print(f\"  学習時間: {t_end-t_start:.2f}秒\")\n",
        "\n",
        "print(f\"\\n【性能結果】\")\n",
        "print(f\"  最終テスト精度: {test_acc:.3f}\")\n",
        "print(f\"  最終検証精度: {validation_acc[-1]:.3f}\")\n",
        "print(f\"  最終訓練精度: {training_acc[-1]:.3f}\")\n",
        "print(f\"  最大検証精度: {max(validation_acc):.3f}\")\n",
        "\n",
        "print(f\"\\n【改良効果】\")\n",
        "print(f\"  ✓ 3層構成による表現力向上\")\n",
        "print(f\"  ✓ BatchNorm + ReLUによる学習安定化\")\n",
        "print(f\"  ✓ 高Dropout率による過学習抑制\")\n",
        "print(f\"  ✓ 入力正規化による汎化性能向上\")\n",
        "print(f\"  ✓ 改良Early Stoppingによる最適停止\")\n",
        "\n",
        "print(f\"\\n【計算効率】\")\n",
        "print(f\"  パラメータ効率: {model.count_parameters() / (test_acc * 1000):.0f} params/accuracy‰\")\n",
        "print(f\"  時間効率: {(t_end-t_start) / test_acc:.1f} 秒/accuracy\")\n",
        "\n",
        "print(\"=\" * 60)\n"
      ]
    },
    {
      "cell_type": "code",
      "execution_count": 18,
      "metadata": {
        "colab": {
          "base_uri": "https://localhost:8080/",
          "height": 526
        },
        "id": "eCEK7TbxOA22",
        "outputId": "118209a7-aac2-42fa-d4d0-116ae7d4e1a6"
      },
      "outputs": [
        {
          "data": {
            "image/png": "[encoded data removed]",
            "text/plain": [
              "<Figure size 1300x550 with 2 Axes>"
            ]
          },
          "metadata": {},
          "output_type": "display_data"
        }
      ],
      "source": [
        "f, axs = plt.subplots(1, 2, figsize=(13, 5.5))\n",
        "axs[0].plot(validation_loss, linewidth=2, color=\"red\")\n",
        "axs[0].plot(training_loss, linewidth=2, color=\"blue\")\n",
        "axs[0].set_title(\"Validation loss\")\n",
        "axs[0].set_ylabel(\"Cross Entropy Loss\")\n",
        "axs[0].set_xlabel(\"Epoch\")\n",
        "axs[0].grid()\n",
        "\n",
        "axs[1].plot(validation_acc, linewidth=2, color=\"red\")\n",
        "axs[1].plot(training_acc, linewidth=2, color=\"blue\")\n",
        "axs[1].set_title(\"Validation accuracy\")\n",
        "axs[1].set_ylabel(\"Acc\")\n",
        "axs[1].set_xlabel(\"Epoch\")\n",
        "axs[1].grid()\n",
        "\n",
        "plt.show()"
      ]
    },
    {
      "cell_type": "markdown",
      "metadata": {
        "id": "WRTnoxpacqlK"
      },
      "source": [
        "学習後のfeatureがラベルごとにかたまっている見てみましょう．\n",
        "ここでは，tSNEを用いて多次元データを2次元に落とし込んで可視化をします．"
      ]
    },
    {
      "cell_type": "code",
      "execution_count": 19,
      "metadata": {
        "colab": {
          "base_uri": "https://localhost:8080/",
          "height": 428
        },
        "id": "euPocBI0QXXh",
        "outputId": "d5735d5f-be9f-4e8f-f2ca-76e3d82b48a2"
      },
      "outputs": [
        {
          "data": {
            "image/png": "[encoded data removed]",
            "text/plain": [
              "<Figure size 640x480 with 1 Axes>"
            ]
          },
          "metadata": {},
          "output_type": "display_data"
        }
      ],
      "source": [
        "visualize_embedding_tSNE(labels, y_pred, num_classes)"
      ]
    },
    {
      "cell_type": "code",
      "execution_count": 19,
      "metadata": {
        "id": "5J5QYCL7mgeK"
      },
      "outputs": [],
      "source": []
    }
  ],
  "metadata": {
    "colab": {
      "provenance": []
    },
    "kernelspec": {
      "display_name": "Python 3",
      "name": "python3"
    },
    "language_info": {
      "name": "python"
    }
  },
  "nbformat": 4,
  "nbformat_minor": 0
}
