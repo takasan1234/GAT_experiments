{
  "cells": [
    {
      "cell_type": "markdown",
      "metadata": {
        "id": "YOT0Yd3fRG1K"
      },
      "source": [
        "# APPNP実装"
      ]
    },
    {
      "cell_type": "markdown",
      "metadata": {
        "id": "tBgP8yKfWO7m"
      },
      "source": [
        "# APPNP（Approximate Personalized Propagation of Neural Predictions）実装"
      ]
    },
    {
      "cell_type": "code",
      "execution_count": null,
      "metadata": {
        "id": "qHF2xSI5WO7m"
      },
      "outputs": [],
      "source": []
    },
    {
      "cell_type": "markdown",
      "metadata": {
        "id": "6D6BYxt0WO7n"
      },
      "source": [
        "元論文：Predict then Propagate: Graph Neural Networks meet Personalized PageRank\n",
        "Johannes Gasteiger, Aleksandar Bojchevski, Stephan Günnemann\n",
        "ICLR 2019\n",
        "\n",
        "https://arxiv.org/abs/1810.05997\n",
        "参考にしたライブラリ：PyTorch Geometric"
      ]
    },
    {
      "cell_type": "markdown",
      "metadata": {
        "id": "st6-z7qxWO7n"
      },
      "source": [
        "全体の流れ\n",
        "\n",
        "1.   ライブラリのインストール\n",
        "2.   汎用関数の定義\n",
        "3.   APPNPモデル定義（2層MLP + APPNP伝播）\n",
        "4.   グラフデータ読み込み（PyTorch Geometricでから読み込み）\n",
        "5.   学習準備\n",
        "6.   モデル学習（Early Stopping付き）\n",
        "7.   テスト精度検証\n",
        "8.   結果の描画\n"
      ]
    },
    {
      "cell_type": "markdown",
      "metadata": {
        "id": "BS7h9H3dWO7o"
      },
      "source": [
        "# ライブラリのインストール"
      ]
    },
    {
      "cell_type": "code",
      "execution_count": null,
      "metadata": {
        "colab": {
          "base_uri": "https://localhost:8080/"
        },
        "id": "KkBQSJikWO7o",
        "outputId": "2b3d07a9-aa11-4328-d1cf-c5390abd4aa0"
      },
      "outputs": [
        {
          "name": "stdout",
          "output_type": "stream",
          "text": [
            "PyTorch version: 2.6.0+cu124\n"
          ]
        }
      ],
      "source": [
        "import torch\n",
        "import torch.nn as nn\n",
        "import torch.nn.functional as F\n",
        "import matplotlib.pyplot as plt\n",
        "from sklearn.manifold import TSNE\n",
        "import time\n",
        "import numpy as np\n",
        "import scipy.sparse as sparse\n",
        "import random as random\n",
        "import os\n",
        "import sys\n",
        "\n",
        "# PyTorch Geometricは使わずに、独自でAPPNPを実装\n",
        "print(f\"PyTorch version: {torch.__version__}\")"
      ]
    },
    {
      "cell_type": "code",
      "execution_count": null,
      "metadata": {
        "colab": {
          "base_uri": "https://localhost:8080/"
        },
        "id": "5xnnsPcBWO7p",
        "outputId": "9c9727bc-4d09-40ab-8fef-9c2f9ab5a1b2"
      },
      "outputs": [
        {
          "name": "stdout",
          "output_type": "stream",
          "text": [
            "Mounted at /content/drive\n"
          ]
        }
      ],
      "source": [
        "from google.colab import drive\n",
        "drive.mount('/content/drive')"
      ]
    },
    {
      "cell_type": "markdown",
      "metadata": {
        "id": "p7fLIKWqWO7q"
      },
      "source": [
        "# 汎用関数の定義"
      ]
    },
    {
      "cell_type": "code",
      "execution_count": null,
      "metadata": {
        "id": "V2-2wQp3WO7q"
      },
      "outputs": [],
      "source": [
        "#乱数の固定化\n",
        "\n",
        "def seed_everything(seed: int = 42):\n",
        "    random.seed(seed)\n",
        "    np.random.seed(seed)\n",
        "    os.environ[\"PYTHONHASHSEED\"] = str(seed)\n",
        "\n",
        "    if \"torch\" in sys.modules:\n",
        "        torch.manual_seed(seed)\n",
        "        torch.cuda.manual_seed_all(seed)\n",
        "        torch.backends.cudnn.deterministic = True\n",
        "        torch.backends.cudnn.benchmark = False\n",
        "\n",
        "seed_everything(42)"
      ]
    },
    {
      "cell_type": "code",
      "execution_count": null,
      "metadata": {
        "id": "UDF7kRwoWO7r"
      },
      "outputs": [],
      "source": [
        "def load_data():\n",
        "    print(\"Loading Cora dataset...\")\n",
        "    raw_nodes_data = np.genfromtxt('/content/drive/My Drive/Colab Notebooks/cora.content', dtype=\"str\")\n",
        "    print(raw_nodes_data)\n",
        "    raw_node_ids = raw_nodes_data[:, 0].astype('int32')  # 各行の一列目に格納されてるノードIDを抽出\n",
        "    #print(raw_node_ids)\n",
        "    raw_node_labels = raw_nodes_data[:, -1]# 各行の最終列に格納されてるラベルを抽出．このラベルが予測ターゲット\n",
        "    #print(raw_node_labels)\n",
        "\n",
        "    unique = list(set(raw_node_labels))\n",
        "    #print(unique)\n",
        "    labels_enumerated = np.array([unique.index(label) for label in raw_node_labels])\n",
        "    #print(labels_enumerated)\n",
        "    node_features = sparse.csr_matrix(raw_nodes_data[:, 1:-1], dtype=\"float32\")\n",
        "    #print(node_features)\n",
        "\n",
        "    ids_ordered = {raw_id: order for order, raw_id in enumerate(raw_node_ids)} #実際のノードIDを0から節点数-1に対応付け\n",
        "    #print(ids_ordered)\n",
        "    raw_edges_data = np.genfromtxt('/content/drive/My Drive/Colab Notebooks/cora.cites', dtype=\"int32\")\n",
        "    #print(raw_edges_data)\n",
        "    edges = np.array(list(map(ids_ordered.get, raw_edges_data.flatten())), dtype='int32').reshape(raw_edges_data.shape) # 実際のノードIDを変換. reshapeでデータ構造を元の枝ファイルと同様に変更．\n",
        "    #print(edges)\n",
        "\n",
        "    adj = sparse.coo_matrix((np.ones(edges.shape[0]), (edges[:, 0], edges[:, 1])),\n",
        "                            shape=(labels_enumerated.shape[0], labels_enumerated.shape[0]),\n",
        "                            dtype=np.float32)\n",
        "    #print(adj)\n",
        "\n",
        "    adj = adj + adj.T.multiply(adj.T > adj) #隣接行列を対象に変更 (つまり，無向グラフに変換)\n",
        "    #print(adj)\n",
        "\n",
        "    adj = adj + sparse.eye(adj.shape[0]) #対角成分に1を挿入\n",
        "\n",
        "    node_degrees = np.array(adj.sum(1)) #列毎の総和を計算する（つまり，次数を計算する）\n",
        "    #print(node_degrees)\n",
        "\n",
        "    node_degrees = np.power(node_degrees, -0.5).flatten()\n",
        "    #print(node_degrees)\n",
        "\n",
        "    degree_matrix = sparse.diags(node_degrees, dtype=np.float32)\n",
        "    print(degree_matrix)\n",
        "\n",
        "    adj = degree_matrix @ adj @ degree_matrix #行列の積を計算．\n",
        "    #torch.spmm(degree_matrix,torch.spmm(adj,degree_matrix))\n",
        "\n",
        "    print(adj)\n",
        "\n",
        "    features = torch.FloatTensor(node_features.toarray())\n",
        "    labels = torch.LongTensor(labels_enumerated)\n",
        "    adj = torch.FloatTensor(np.array(adj.todense()))\n",
        "\n",
        "    return features, labels, adj, edges"
      ]
    },
    {
      "cell_type": "code",
      "execution_count": null,
      "metadata": {
        "id": "a8zoGQGaWO7r"
      },
      "outputs": [],
      "source": [
        "def visualize_embedding_tSNE(labels, y_pred, num_classes):\n",
        "\n",
        "    cora_label_to_color_map = {0: \"red\", 1: \"blue\", 2: \"green\", 3: \"orange\", 4: \"yellow\", 5: \"pink\", 6: \"gray\"}\n",
        "\n",
        "    node_labels = labels.cpu().numpy()\n",
        "    out_features = y_pred.detach().cpu().numpy()\n",
        "    t_sne_embeddings = TSNE(n_components=2, perplexity=30, method='barnes_hut').fit_transform(out_features)\n",
        "\n",
        "    plt.figure()\n",
        "    for class_id in range(num_classes):\n",
        "        plt.scatter(t_sne_embeddings[node_labels == class_id, 0],\n",
        "                    t_sne_embeddings[node_labels == class_id, 1], s=20,\n",
        "                    color=cora_label_to_color_map[class_id],\n",
        "                    edgecolors='black', linewidths=0.15)\n",
        "\n",
        "    plt.axis(\"off\")\n",
        "    plt.title(\"Visualizing t-SNE\")\n",
        "    plt.show()"
      ]
    },
    {
      "cell_type": "markdown",
      "metadata": {
        "id": "1Pm4eGiYWO7r"
      },
      "source": [
        "# APPNPモデル定義"
      ]
    },
    {
      "cell_type": "code",
      "execution_count": null,
      "metadata": {
        "id": "vWw-g8R-WO7s"
      },
      "outputs": [],
      "source": [
        "class APPNPNet(nn.Module):\n",
        "    \"\"\"\n",
        "    APPNPモデル：2層MLPで初期特徴抽出 → APPNP伝播\n",
        "    従来の隣接行列ベースの実装\n",
        "    \"\"\"\n",
        "    def __init__(self, num_features, hidden_dim, num_classes, K, alpha, dropout):\n",
        "        super(APPNPNet, self).__init__()\n",
        "\n",
        "        # 2層MLP（特徴抽出）\n",
        "        self.mlp = nn.Sequential(\n",
        "            nn.Linear(num_features, hidden_dim),\n",
        "            nn.ReLU(),\n",
        "            nn.Dropout(dropout),\n",
        "            nn.Linear(hidden_dim, num_classes)\n",
        "        )\n",
        "\n",
        "        # APPNPパラメータ\n",
        "        self.K = K\n",
        "        self.alpha = alpha\n",
        "        self.dropout = dropout\n",
        "\n",
        "    def forward(self, x, adj):\n",
        "        # 2層MLPで初期特徴抽出\n",
        "        h0 = self.mlp(x)  # 初期予測 H0\n",
        "        h = h0.clone()\n",
        "\n",
        "        # APPNP伝播：K回のイテレーション\n",
        "        for k in range(self.K):\n",
        "            # ドロップアウト適用（学習時のみ）\n",
        "            if self.training:\n",
        "                h = F.dropout(h, p=self.dropout, training=self.training)\n",
        "\n",
        "            # 伝播ステップ: H(k+1) = (1-α) * A_norm * H(k) + α * H0\n",
        "            h = (1 - self.alpha) * torch.mm(adj, h) + self.alpha * h0\n",
        "\n",
        "        return h\n"
      ]
    },
    {
      "cell_type": "markdown",
      "metadata": {
        "id": "7OgAxG92WO7s"
      },
      "source": []
    },
    {
      "cell_type": "code",
      "execution_count": null,
      "metadata": {
        "id": "13QpltuyWO7s"
      },
      "outputs": [],
      "source": [
        "def accuracy(y_pred, y_true):\n",
        "    \"\"\"精度を計算する関数\"\"\"\n",
        "    return (y_pred.argmax(dim=1) == y_true).float().mean()"
      ]
    },
    {
      "cell_type": "markdown",
      "metadata": {
        "id": "o-zusg7ZWO7s"
      },
      "source": [
        "# グラフデータ読み込み"
      ]
    },
    {
      "cell_type": "markdown",
      "metadata": {
        "id": "hPkT6_1pWO7s"
      },
      "source": [
        "# Coraデータセット読み込み"
      ]
    },
    {
      "cell_type": "code",
      "execution_count": null,
      "metadata": {
        "colab": {
          "base_uri": "https://localhost:8080/"
        },
        "id": "ze954FHxWO7s",
        "outputId": "f9a986f4-00a9-415d-df0e-e9a0b2bae672"
      },
      "outputs": [
        {
          "name": "stdout",
          "output_type": "stream",
          "text": [
            "Loading Cora dataset...\n",
            "[['31336' '0' '0' ... '0' '0' 'Neural_Networks']\n",
            " ['1061127' '0' '0' ... '0' '0' 'Rule_Learning']\n",
            " ['1106406' '0' '0' ... '0' '0' 'Reinforcement_Learning']\n",
            " ...\n",
            " ['1128978' '0' '0' ... '0' '0' 'Genetic_Algorithms']\n",
            " ['117328' '0' '0' ... '0' '0' 'Case_Based']\n",
            " ['24043' '0' '0' ... '0' '0' 'Neural_Networks']]\n",
            "<DIAgonal sparse matrix of dtype 'float32'\n",
            "\twith 2708 stored elements (1 diagonals) and shape (2708, 2708)>\n",
            "  Coords\tValues\n",
            "  (0, 0)\t0.40824830532073975\n",
            "  (1, 1)\t0.7071067690849304\n",
            "  (2, 2)\t0.4472135901451111\n",
            "  (3, 3)\t0.5\n",
            "  (4, 4)\t0.7071067690849304\n",
            "  (5, 5)\t0.5773502588272095\n",
            "  (6, 6)\t0.5773502588272095\n",
            "  (7, 7)\t0.7071067690849304\n",
            "  (8, 8)\t0.40824830532073975\n",
            "  (9, 9)\t0.4472135901451111\n",
            "  (10, 10)\t0.40824830532073975\n",
            "  (11, 11)\t0.5773502588272095\n",
            "  (12, 12)\t0.5773502588272095\n",
            "  (13, 13)\t0.5\n",
            "  (14, 14)\t0.22360679507255554\n",
            "  (15, 15)\t0.30151134729385376\n",
            "  (16, 16)\t0.4472135901451111\n",
            "  (17, 17)\t0.7071067690849304\n",
            "  (18, 18)\t0.3535533845424652\n",
            "  (19, 19)\t0.5773502588272095\n",
            "  (20, 20)\t0.40824830532073975\n",
            "  (21, 21)\t0.4472135901451111\n",
            "  (22, 22)\t0.40824830532073975\n",
            "  (23, 23)\t0.5773502588272095\n",
            "  (24, 24)\t0.5773502588272095\n",
            "  :\t:\n",
            "  (2683, 2683)\t0.4472135901451111\n",
            "  (2684, 2684)\t0.7071067690849304\n",
            "  (2685, 2685)\t0.5773502588272095\n",
            "  (2686, 2686)\t0.5\n",
            "  (2687, 2687)\t0.5\n",
            "  (2688, 2688)\t0.4472135901451111\n",
            "  (2689, 2689)\t0.5773502588272095\n",
            "  (2690, 2690)\t0.5773502588272095\n",
            "  (2691, 2691)\t0.7071067690849304\n",
            "  (2692, 2692)\t0.5\n",
            "  (2693, 2693)\t0.7071067690849304\n",
            "  (2694, 2694)\t0.4472135901451111\n",
            "  (2695, 2695)\t0.5\n",
            "  (2696, 2696)\t0.4472135901451111\n",
            "  (2697, 2697)\t0.4472135901451111\n",
            "  (2698, 2698)\t0.5\n",
            "  (2699, 2699)\t0.7071067690849304\n",
            "  (2700, 2700)\t0.5773502588272095\n",
            "  (2701, 2701)\t0.5773502588272095\n",
            "  (2702, 2702)\t0.5773502588272095\n",
            "  (2703, 2703)\t0.5\n",
            "  (2704, 2704)\t0.5773502588272095\n",
            "  (2705, 2705)\t0.4472135901451111\n",
            "  (2706, 2706)\t0.4472135901451111\n",
            "  (2707, 2707)\t0.5\n",
            "<Compressed Sparse Row sparse matrix of dtype 'float64'\n",
            "\twith 13264 stored elements and shape (2708, 2708)>\n",
            "  Coords\tValues\n",
            "  (0, 0)\t0.16666667879725594\n",
            "  (0, 8)\t0.16666667879725594\n",
            "  (0, 14)\t0.09128709514657274\n",
            "  (0, 258)\t0.11785113237134937\n",
            "  (0, 435)\t0.16666667879725594\n",
            "  (0, 544)\t0.18257419029314548\n",
            "  (1, 1)\t0.4999999828857291\n",
            "  (1, 344)\t0.12499999572143228\n",
            "  (2, 2)\t0.1999999952104794\n",
            "  (2, 410)\t0.18257419029314548\n",
            "  (2, 471)\t0.1581138784091909\n",
            "  (2, 552)\t0.06819943435231757\n",
            "  (2, 565)\t0.05031545931958359\n",
            "  (3, 3)\t0.25\n",
            "  (3, 197)\t0.22360679507255554\n",
            "  (3, 463)\t0.20412415266036987\n",
            "  (3, 601)\t0.20412415266036987\n",
            "  (4, 4)\t0.4999999828857291\n",
            "  (4, 170)\t0.4082482761496564\n",
            "  (5, 5)\t0.33333332136784577\n",
            "  (5, 490)\t0.2041241380748282\n",
            "  (5, 2164)\t0.23570226474269873\n",
            "  (6, 6)\t0.33333332136784577\n",
            "  (6, 251)\t0.192450092011196\n",
            "  (6, 490)\t0.2041241380748282\n",
            "  :\t:\n",
            "  (2701, 2701)\t0.33333332136784577\n",
            "  (2702, 881)\t0.14907119430171534\n",
            "  (2702, 2624)\t0.2041241380748282\n",
            "  (2702, 2702)\t0.33333332136784577\n",
            "  (2703, 1221)\t0.25\n",
            "  (2703, 1409)\t0.1767766922712326\n",
            "  (2703, 2200)\t0.22360679507255554\n",
            "  (2703, 2703)\t0.25\n",
            "  (2704, 209)\t0.28867512941360474\n",
            "  (2704, 2407)\t0.33333332136784577\n",
            "  (2704, 2704)\t0.33333332136784577\n",
            "  (2705, 1784)\t0.1490712011577049\n",
            "  (2705, 1839)\t0.22360679507255554\n",
            "  (2705, 1840)\t0.25819888202132546\n",
            "  (2705, 2216)\t0.22360679507255554\n",
            "  (2705, 2705)\t0.1999999952104794\n",
            "  (2706, 1046)\t0.18257419029314548\n",
            "  (2706, 1138)\t0.16903084614948405\n",
            "  (2706, 1640)\t0.16903084614948405\n",
            "  (2706, 1752)\t0.3162277568183818\n",
            "  (2706, 2706)\t0.1999999952104794\n",
            "  (2707, 774)\t0.25\n",
            "  (2707, 1389)\t0.22360679507255554\n",
            "  (2707, 2344)\t0.3535533845424652\n",
            "  (2707, 2707)\t0.25\n"
          ]
        }
      ],
      "source": [
        "features, labels, adj, edges = load_data()"
      ]
    },
    {
      "cell_type": "code",
      "execution_count": null,
      "metadata": {
        "colab": {
          "base_uri": "https://localhost:8080/"
        },
        "id": "qsdIlaCGWO7s",
        "outputId": "8d557f96-8ff8-47e2-b6de-bcd53b62f217"
      },
      "outputs": [
        {
          "name": "stdout",
          "output_type": "stream",
          "text": [
            "tensor([[0., 0., 0.,  ..., 0., 0., 0.],\n",
            "        [0., 0., 0.,  ..., 0., 0., 0.],\n",
            "        [0., 0., 0.,  ..., 0., 0., 0.],\n",
            "        ...,\n",
            "        [0., 0., 0.,  ..., 0., 0., 0.],\n",
            "        [0., 0., 0.,  ..., 0., 0., 0.],\n",
            "        [0., 0., 0.,  ..., 0., 0., 0.]])\n",
            "tensor([0, 2, 1,  ..., 3, 4, 0])\n",
            "tensor([[0.1667, 0.0000, 0.0000,  ..., 0.0000, 0.0000, 0.0000],\n",
            "        [0.0000, 0.5000, 0.0000,  ..., 0.0000, 0.0000, 0.0000],\n",
            "        [0.0000, 0.0000, 0.2000,  ..., 0.0000, 0.0000, 0.0000],\n",
            "        ...,\n",
            "        [0.0000, 0.0000, 0.0000,  ..., 0.2000, 0.0000, 0.0000],\n",
            "        [0.0000, 0.0000, 0.0000,  ..., 0.0000, 0.2000, 0.0000],\n",
            "        [0.0000, 0.0000, 0.0000,  ..., 0.0000, 0.0000, 0.2500]])\n",
            "[[ 163  402]\n",
            " [ 163  659]\n",
            " [ 163 1696]\n",
            " ...\n",
            " [1887 2258]\n",
            " [1902 1887]\n",
            " [ 837 1686]]\n"
          ]
        }
      ],
      "source": [
        "print(features)\n",
        "print(labels)\n",
        "print(adj)\n",
        "print(edges)"
      ]
    },
    {
      "cell_type": "markdown",
      "metadata": {
        "id": "K9Jw7Td2WO7t"
      },
      "source": [
        "# 学習準備"
      ]
    },
    {
      "cell_type": "code",
      "execution_count": null,
      "metadata": {
        "id": "mc47DUeQWO7t"
      },
      "outputs": [],
      "source": [
        "num_classes = int(labels.max().item() + 1)\n",
        "train_size_per_class=20\n",
        "validation_size=500\n",
        "test_size=1000\n",
        "classes = [ind for ind in range(num_classes)]\n",
        "train_set = []\n",
        "\n",
        "# Construct train set (indices) out of 20 samples per each class\n",
        "for class_label in classes:\n",
        "    target_indices = torch.nonzero(labels == class_label, as_tuple=False).tolist()\n",
        "    train_set += [ind[0] for ind in target_indices[:train_size_per_class]]\n",
        "\n",
        "# Extract the remaining samples\n",
        "validation_test_set = [ind for ind in range(len(labels)) if ind not in train_set]\n",
        "# Split the remaining samples into validation/test set\n",
        "validation_set = validation_test_set[:validation_size]\n",
        "test_set = validation_test_set[validation_size:validation_size+test_size]"
      ]
    },
    {
      "cell_type": "code",
      "execution_count": null,
      "metadata": {
        "colab": {
          "base_uri": "https://localhost:8080/"
        },
        "id": "8mJ2BH3RWO7t",
        "outputId": "faaa8392-8651-4797-da46-bd3ba9a520f0"
      },
      "outputs": [
        {
          "name": "stdout",
          "output_type": "stream",
          "text": [
            "APPNPNet(\n",
            "  (mlp): Sequential(\n",
            "    (0): Linear(in_features=1433, out_features=64, bias=True)\n",
            "    (1): ReLU()\n",
            "    (2): Dropout(p=0.5, inplace=False)\n",
            "    (3): Linear(in_features=64, out_features=7, bias=True)\n",
            "  )\n",
            ")\n",
            "Model parameters: 92231\n"
          ]
        }
      ],
      "source": [
        "# APPNPのハイパーパラメータ（条件通り）\n",
        "alpha = 0.1         # テレポート確率\n",
        "K = 10              # 伝播ステップ数\n",
        "hidden_dim = 64     # 隠れ層次元数\n",
        "dropout = 0.5       # ドロップアウト率\n",
        "\n",
        "# APPNPモデルを作成\n",
        "model = APPNPNet(num_features=features.shape[1],\n",
        "                hidden_dim=hidden_dim,\n",
        "                num_classes=num_classes,\n",
        "                K=K,\n",
        "                alpha=alpha,\n",
        "                dropout=dropout)\n",
        "print(model)\n",
        "print(f\"Model parameters: {sum(p.numel() for p in model.parameters())}\")"
      ]
    },
    {
      "cell_type": "code",
      "execution_count": null,
      "metadata": {
        "id": "_1JxUkGDWO7t"
      },
      "outputs": [],
      "source": [
        "if torch.cuda.is_available(): #cudaが使えるなら，GPUで処理\n",
        "  model.cuda()\n",
        "  adj = adj.cuda()\n",
        "  features = features.cuda()\n",
        "  labels = labels.cuda()\n",
        "\n",
        "# Adam最適化手法（条件通り）\n",
        "optimizer = torch.optim.Adam(model.parameters(),\n",
        "                           lr=0.01,           # 学習率\n",
        "                           weight_decay=5e-4) # 重み減衰\n",
        "criterion = nn.CrossEntropyLoss()\n"
      ]
    },
    {
      "cell_type": "code",
      "execution_count": null,
      "metadata": {
        "id": "joYNyXa5WO7t"
      },
      "outputs": [],
      "source": [
        "def accuracy(output, labels):\n",
        "    y_pred = output.max(1)[1].type_as(labels)\n",
        "    correct = y_pred.eq(labels).double()\n",
        "    correct = correct.sum()\n",
        "    return correct / len(labels)"
      ]
    },
    {
      "cell_type": "markdown",
      "metadata": {
        "id": "JHnI2Ma1WO7t"
      },
      "source": [
        "# モデル学習"
      ]
    },
    {
      "cell_type": "code",
      "execution_count": null,
      "metadata": {
        "colab": {
          "base_uri": "https://localhost:8080/"
        },
        "id": "b_vcjXmCWO7t",
        "outputId": "6ff3fe80-3672-4b2d-da3c-430c9683da1f"
      },
      "outputs": [
        {
          "name": "stdout",
          "output_type": "stream",
          "text": [
            "Epoch:    0 | Train loss: 1.951 | Train acc: 0.21 | Val loss: 1.927 | Val acc: 0.19\n",
            "Epoch:   10 | Train loss: 0.840 | Train acc: 0.86 | Val loss: 0.965 | Val acc: 0.80\n",
            "Epoch:   20 | Train loss: 0.317 | Train acc: 0.95 | Val loss: 0.615 | Val acc: 0.79\n",
            "Epoch:   30 | Train loss: 0.157 | Train acc: 0.98 | Val loss: 0.720 | Val acc: 0.78\n",
            "Epoch:   40 | Train loss: 0.102 | Train acc: 0.99 | Val loss: 0.794 | Val acc: 0.78\n",
            "Epoch:   50 | Train loss: 0.087 | Train acc: 1.00 | Val loss: 0.645 | Val acc: 0.81\n",
            "Epoch:   60 | Train loss: 0.089 | Train acc: 0.99 | Val loss: 0.772 | Val acc: 0.78\n",
            "Epoch:   70 | Train loss: 0.070 | Train acc: 0.98 | Val loss: 0.722 | Val acc: 0.79\n",
            "Epoch:   80 | Train loss: 0.077 | Train acc: 0.99 | Val loss: 0.631 | Val acc: 0.81\n",
            "Epoch:   90 | Train loss: 0.088 | Train acc: 1.00 | Val loss: 0.714 | Val acc: 0.79\n",
            "Epoch:  100 | Train loss: 0.078 | Train acc: 1.00 | Val loss: 0.779 | Val acc: 0.78\n",
            "Epoch:  110 | Train loss: 0.092 | Train acc: 0.99 | Val loss: 0.760 | Val acc: 0.78\n",
            "Epoch:  120 | Train loss: 0.082 | Train acc: 0.99 | Val loss: 0.731 | Val acc: 0.80\n",
            "EARLY STOPPING condition met. Stopped at epoch: 122.\n",
            "Total training time: 45.80 seconds\n"
          ]
        }
      ],
      "source": [
        "validation_acc = []\n",
        "validation_loss = []\n",
        "training_acc=[]\n",
        "training_loss=[]\n",
        "\n",
        "# Early stopping設定\n",
        "use_early_stopping = True\n",
        "patience = 100  # より適切なパラメータに変更\n",
        "\n",
        "if use_early_stopping:\n",
        "    best_val_loss = float('inf')\n",
        "    patience_counter = 0\n",
        "    stopped_early = False\n",
        "\n",
        "t_start = time.time()\n",
        "maxepoch = 1000\n",
        "for epoch in range(maxepoch):\n",
        "    optimizer.zero_grad()\n",
        "    model.train()\n",
        "\n",
        "    y_pred = model(features, adj)\n",
        "    train_loss = criterion(y_pred[train_set], labels[train_set])\n",
        "    train_acc = accuracy(y_pred[train_set], labels[train_set])\n",
        "    train_loss.backward()\n",
        "    optimizer.step()\n",
        "\n",
        "    training_loss.append(train_loss.item())\n",
        "    training_acc.append(train_acc)\n",
        "\n",
        "    with torch.no_grad():\n",
        "        model.eval()\n",
        "        y_pred_val = model(features, adj)  # 評価時は新しく予測\n",
        "        val_loss = criterion(y_pred_val[validation_set], labels[validation_set])\n",
        "        val_acc = accuracy(y_pred_val[validation_set], labels[validation_set])\n",
        "\n",
        "        validation_loss.append(val_loss.item())\n",
        "        validation_acc.append(val_acc)\n",
        "\n",
        "        if use_early_stopping:\n",
        "            if val_loss < best_val_loss:\n",
        "                best_val_loss = val_loss\n",
        "                patience_counter = 0\n",
        "            else:\n",
        "                patience_counter += 1\n",
        "                if patience_counter >= patience:\n",
        "                    stopped_early = True\n",
        "                    t_end = time.time()\n",
        "\n",
        "    if epoch % 10 == 0: #10行毎に出力\n",
        "      print(\" | \".join([f\"Epoch: {epoch:4d}\", f\"Train loss: {train_loss.item():.3f}\",\n",
        "                      f\"Train acc: {train_acc:.2f}\",\n",
        "                      f\"Val loss: {val_loss.item():.3f}\",\n",
        "                      f\"Val acc: {val_acc:.2f}\"]))\n",
        "\n",
        "    if use_early_stopping and stopped_early:\n",
        "        break\n",
        "\n",
        "if use_early_stopping and stopped_early:\n",
        "    print(f\"EARLY STOPPING condition met. Stopped at epoch: {epoch}.\")\n",
        "else:\n",
        "    t_end = time.time()\n",
        "\n",
        "print(f\"Total training time: {t_end-t_start:.2f} seconds\")"
      ]
    },
    {
      "cell_type": "markdown",
      "metadata": {
        "id": "lhayMNZvWO7t"
      },
      "source": [
        "# テスト精度の検証"
      ]
    },
    {
      "cell_type": "code",
      "execution_count": null,
      "metadata": {
        "colab": {
          "base_uri": "https://localhost:8080/"
        },
        "id": "GGZ6zYhuWO7t",
        "outputId": "902d34cd-2abe-4247-e248-b2be753f2859"
      },
      "outputs": [
        {
          "name": "stdout",
          "output_type": "stream",
          "text": [
            "Test loss: 0.581  |  Test acc: 0.81\n"
          ]
        }
      ],
      "source": [
        "criterion = nn.CrossEntropyLoss()\n",
        "\n",
        "with torch.no_grad():\n",
        "    model.eval()\n",
        "    y_pred = model(features, adj)\n",
        "    test_loss = criterion(y_pred[test_set], labels[test_set])\n",
        "    test_acc = accuracy(y_pred[test_set], labels[test_set])\n",
        "\n",
        "print(f\"Test loss: {test_loss:.3f}  |  Test acc: {test_acc:.2f}\")"
      ]
    },
    {
      "cell_type": "markdown",
      "metadata": {
        "id": "GKwkMKTEWO7u"
      },
      "source": [
        "# 結果の描画"
      ]
    },
    {
      "cell_type": "markdown",
      "metadata": {
        "id": "rHnKoN3lWO7u"
      },
      "source": [
        "まずは，訓練データのロスと精度，開発データのロスと精度がエポック毎にどのように変化してるか見てみましょう．"
      ]
    },
    {
      "cell_type": "code",
      "execution_count": null,
      "metadata": {
        "colab": {
          "base_uri": "https://localhost:8080/",
          "height": 526
        },
        "id": "aLykEEWrWO7u",
        "outputId": "6b5d97e5-d2f4-463b-dcce-723e517fde3d"
      },
      "outputs": [
        {
          "data": {
            "image/png": "[encoded data removed]",
            "text/plain": [
              "<Figure size 1300x550 with 2 Axes>"
            ]
          },
          "metadata": {},
          "output_type": "display_data"
        }
      ],
      "source": [
        "f, axs = plt.subplots(1, 2, figsize=(13, 5.5))\n",
        "axs[0].plot(validation_loss, linewidth=2, color=\"red\")\n",
        "axs[0].plot(training_loss, linewidth=2, color=\"blue\")\n",
        "axs[0].set_title(\"Validation loss\")\n",
        "axs[0].set_ylabel(\"Cross Entropy Loss\")\n",
        "axs[0].set_xlabel(\"Epoch\")\n",
        "axs[0].grid()\n",
        "\n",
        "axs[1].plot(validation_acc, linewidth=2, color=\"red\")\n",
        "axs[1].plot(training_acc, linewidth=2, color=\"blue\")\n",
        "axs[1].set_title(\"Validation accuracy\")\n",
        "axs[1].set_ylabel(\"Acc\")\n",
        "axs[1].set_xlabel(\"Epoch\")\n",
        "axs[1].grid()\n",
        "\n",
        "plt.show()"
      ]
    },
    {
      "cell_type": "markdown",
      "metadata": {
        "id": "8LmaMEZIWO7u"
      },
      "source": [
        "学習後のfeatureがラベルごとにかたまっている見てみましょう．\n",
        "ここでは，tSNEを用いて多次元データを2次元に落とし込んで可視化をします．"
      ]
    },
    {
      "cell_type": "code",
      "execution_count": null,
      "metadata": {},
      "outputs": [],
      "source": [
        "# パラメータ自動調整システム\n",
        "\n",
        "import itertools\n",
        "import copy\n",
        "\n",
        "def train_and_evaluate_model(alpha, K, hidden_dim, dropout, lr, weight_decay, features, labels, adj, train_set, validation_set, test_set):\n",
        "    \"\"\"\n",
        "    指定されたパラメータでモデルを訓練し、テスト精度を返す\n",
        "    \"\"\"\n",
        "    \n",
        "    # 乱数シードを固定して再現性を保つ\n",
        "    seed_everything(42)\n",
        "    \n",
        "    # モデル作成\n",
        "    model = APPNPNet(num_features=features.shape[1],\n",
        "                    hidden_dim=hidden_dim,\n",
        "                    num_classes=num_classes,\n",
        "                    K=K,\n",
        "                    alpha=alpha,\n",
        "                    dropout=dropout)\n",
        "    \n",
        "    # GPUに移動\n",
        "    if torch.cuda.is_available():\n",
        "        model.cuda()\n",
        "    \n",
        "    # オプティマイザー設定\n",
        "    optimizer = torch.optim.Adam(model.parameters(), lr=lr, weight_decay=weight_decay)\n",
        "    criterion = nn.CrossEntropyLoss()\n",
        "    \n",
        "    # Early stopping設定\n",
        "    use_early_stopping = True\n",
        "    patience = 100\n",
        "    best_val_loss = float('inf')\n",
        "    patience_counter = 0\n",
        "    stopped_early = False\n",
        "    \n",
        "    # 訓練ループ\n",
        "    maxepoch = 1000\n",
        "    for epoch in range(maxepoch):\n",
        "        optimizer.zero_grad()\n",
        "        model.train()\n",
        "        \n",
        "        y_pred = model(features, adj)\n",
        "        train_loss = criterion(y_pred[train_set], labels[train_set])\n",
        "        train_loss.backward()\n",
        "        optimizer.step()\n",
        "        \n",
        "        # バリデーション評価\n",
        "        with torch.no_grad():\n",
        "            model.eval()\n",
        "            y_pred_val = model(features, adj)\n",
        "            val_loss = criterion(y_pred_val[validation_set], labels[validation_set])\n",
        "            \n",
        "            if use_early_stopping:\n",
        "                if val_loss < best_val_loss:\n",
        "                    best_val_loss = val_loss\n",
        "                    patience_counter = 0\n",
        "                else:\n",
        "                    patience_counter += 1\n",
        "                    if patience_counter >= patience:\n",
        "                        stopped_early = True\n",
        "                        break\n",
        "    \n",
        "    # テスト評価\n",
        "    with torch.no_grad():\n",
        "        model.eval()\n",
        "        y_pred = model(features, adj)\n",
        "        test_loss = criterion(y_pred[test_set], labels[test_set])\n",
        "        test_acc = accuracy(y_pred[test_set], labels[test_set])\n",
        "    \n",
        "    return test_acc.item(), epoch + 1  # 実際のエポック数も返す\n",
        "\n",
        "param_grid = {\n",
        "    'alpha': [0.08, 0.1, 0.12, 0.15],\n",
        "    'K': [7, 8, 9, 10, 11],\n",
        "    'hidden_dim': [32, 128],\n",
        "    'dropout': [0.48, 0.5, 0.52],\n",
        "    'lr': [0.003, 0.005, 0.007],\n",
        "    'weight_decay': [5e-5, 1e-4, 2e-4]\n",
        "}\n",
        "\n",
        "print(\"パラメータ自動調整を開始します...\")\n",
        "print(f\"総組み合わせ数: {len(param_grid['alpha']) * len(param_grid['K']) * len(param_grid['hidden_dim']) * len(param_grid['dropout']) * len(param_grid['lr']) * len(param_grid['weight_decay'])}\")\n"
      ]
    },
    {
      "cell_type": "code",
      "execution_count": null,
      "metadata": {},
      "outputs": [],
      "source": [
        "# グリッドサーチ実行\n",
        "import time\n",
        "\n",
        "def grid_search_optimization():\n",
        "    \"\"\"\n",
        "    グリッドサーチでパラメータ最適化を実行\n",
        "    \"\"\"\n",
        "    \n",
        "    best_acc = 0.0\n",
        "    best_params = None\n",
        "    results = []\n",
        "    \n",
        "    # 全組み合わせを生成\n",
        "    param_combinations = list(itertools.product(\n",
        "        param_grid['alpha'],\n",
        "        param_grid['K'], \n",
        "        param_grid['hidden_dim'],\n",
        "        param_grid['dropout'],\n",
        "        param_grid['lr'],\n",
        "        param_grid['weight_decay']\n",
        "    ))\n",
        "    \n",
        "    total_combinations = len(param_combinations)\n",
        "    print(f\"合計 {total_combinations} 個の組み合わせをテストします\")\n",
        "    \n",
        "    start_time = time.time()\n",
        "    \n",
        "    for i, (alpha, K, hidden_dim, dropout, lr, weight_decay) in enumerate(param_combinations):\n",
        "        print(f\"\\n進捗: {i+1}/{total_combinations}\")\n",
        "        print(f\"テスト中のパラメータ: alpha={alpha}, K={K}, hidden_dim={hidden_dim}, dropout={dropout}, lr={lr}, weight_decay={weight_decay}\")\n",
        "        \n",
        "        try:\n",
        "            # モデル訓練・評価\n",
        "            test_acc, epochs = train_and_evaluate_model(\n",
        "                alpha, K, hidden_dim, dropout, lr, weight_decay,\n",
        "                features, labels, adj, train_set, validation_set, test_set\n",
        "            )\n",
        "            \n",
        "            print(f\"テスト精度: {test_acc:.4f} (エポック数: {epochs})\")\n",
        "            \n",
        "            # 結果を記録\n",
        "            result = {\n",
        "                'alpha': alpha,\n",
        "                'K': K,\n",
        "                'hidden_dim': hidden_dim,\n",
        "                'dropout': dropout,\n",
        "                'lr': lr,\n",
        "                'weight_decay': weight_decay,\n",
        "                'test_acc': test_acc,\n",
        "                'epochs': epochs\n",
        "            }\n",
        "            results.append(result)\n",
        "            \n",
        "            # ベスト結果更新\n",
        "            if test_acc > best_acc:\n",
        "                best_acc = test_acc\n",
        "                best_params = result.copy()\n",
        "                print(f\"🎉 新しい最高精度! {best_acc:.4f}\")\n",
        "                \n",
        "        except Exception as e:\n",
        "            print(f\"エラー発生: {e}\")\n",
        "            continue\n",
        "            \n",
        "        # 進捗時間表示\n",
        "        elapsed = time.time() - start_time\n",
        "        avg_time = elapsed / (i + 1)\n",
        "        remaining = avg_time * (total_combinations - i - 1)\n",
        "        print(f\"経過時間: {elapsed/60:.1f}分, 推定残り時間: {remaining/60:.1f}分\")\n",
        "    \n",
        "    return best_params, best_acc, results\n",
        "\n",
        "# 最適化実行\n",
        "print(\"グリッドサーチ最適化を開始します...\")\n",
        "best_params, best_acc, all_results = grid_search_optimization()\n",
        "\n",
        "print(f\"\\n🏆 最適化完了!\")\n",
        "print(f\"最高テスト精度: {best_acc:.4f}\")\n",
        "print(\"最適パラメータ:\")\n",
        "for key, value in best_params.items():\n",
        "    print(f\"  {key}: {value}\")\n"
      ]
    },
    {
      "cell_type": "code",
      "execution_count": null,
      "metadata": {},
      "outputs": [],
      "source": [
        "# 結果の詳細分析と可視化\n",
        "\n",
        "import pandas as pd\n",
        "import matplotlib.pyplot as plt\n",
        "import seaborn as sns\n",
        "\n",
        "def analyze_results(results):\n",
        "    \"\"\"\n",
        "    グリッドサーチ結果の詳細分析\n",
        "    \"\"\"\n",
        "    \n",
        "    # DataFrameに変換\n",
        "    df = pd.DataFrame(results)\n",
        "    \n",
        "    print(\"📊 結果統計:\")\n",
        "    print(f\"平均テスト精度: {df['test_acc'].mean():.4f}\")\n",
        "    print(f\"標準偏差: {df['test_acc'].std():.4f}\")\n",
        "    print(f\"最高精度: {df['test_acc'].max():.4f}\")\n",
        "    print(f\"最低精度: {df['test_acc'].min():.4f}\")\n",
        "    \n",
        "    # 上位10結果を表示\n",
        "    print(\"\\n🏆 上位10結果:\")\n",
        "    top_results = df.nlargest(10, 'test_acc')\n",
        "    for i, row in top_results.iterrows():\n",
        "        print(f\"{len(top_results) - list(top_results.index).index(i)}位: 精度 {row['test_acc']:.4f} | \"\n",
        "              f\"alpha={row['alpha']}, K={row['K']}, hidden_dim={row['hidden_dim']}, \"\n",
        "              f\"dropout={row['dropout']}, lr={row['lr']}, weight_decay={row['weight_decay']}\")\n",
        "    \n",
        "    # 各パラメータの影響を分析\n",
        "    print(\"\\n📈 パラメータ別平均精度:\")\n",
        "    for param in ['alpha', 'K', 'hidden_dim', 'dropout', 'lr', 'weight_decay']:\n",
        "        param_analysis = df.groupby(param)['test_acc'].agg(['mean', 'std', 'count'])\n",
        "        print(f\"\\n{param}:\")\n",
        "        for value, stats in param_analysis.iterrows():\n",
        "            print(f\"  {value}: 平均 {stats['mean']:.4f} ± {stats['std']:.4f} (n={stats['count']})\")\n",
        "    \n",
        "    return df, top_results\n",
        "\n",
        "# 結果分析実行\n",
        "print(\"結果分析を開始します...\")\n",
        "results_df, top_10 = analyze_results(all_results)\n"
      ]
    },
    {
      "cell_type": "code",
      "execution_count": null,
      "metadata": {},
      "outputs": [],
      "source": [
        "# 最適パラメータでの最終検証\n",
        "\n",
        "def final_validation_with_best_params(best_params):\n",
        "    \"\"\"\n",
        "    最適パラメータでモデルを再訓練し、詳細な結果を取得\n",
        "    \"\"\"\n",
        "    \n",
        "    print(\"🔍 最適パラメータでの最終検証を実行します...\")\n",
        "    print(\"パラメータ:\")\n",
        "    for key, value in best_params.items():\n",
        "        if key not in ['test_acc', 'epochs']:\n",
        "            print(f\"  {key}: {value}\")\n",
        "    \n",
        "    # 最適パラメータで再度訓練\n",
        "    seed_everything(42)  # 再現性確保\n",
        "    \n",
        "    model = APPNPNet(num_features=features.shape[1],\n",
        "                    hidden_dim=best_params['hidden_dim'],\n",
        "                    num_classes=num_classes,\n",
        "                    K=best_params['K'],\n",
        "                    alpha=best_params['alpha'],\n",
        "                    dropout=best_params['dropout'])\n",
        "    \n",
        "    if torch.cuda.is_available():\n",
        "        model.cuda()\n",
        "    \n",
        "    optimizer = torch.optim.Adam(model.parameters(), \n",
        "                               lr=best_params['lr'], \n",
        "                               weight_decay=best_params['weight_decay'])\n",
        "    criterion = nn.CrossEntropyLoss()\n",
        "    \n",
        "    # 訓練過程を記録\n",
        "    train_losses = []\n",
        "    train_accs = []\n",
        "    val_losses = []\n",
        "    val_accs = []\n",
        "    \n",
        "    # Early stopping\n",
        "    best_val_loss = float('inf')\n",
        "    patience_counter = 0\n",
        "    patience = 100\n",
        "    \n",
        "    print(\"\\n訓練開始...\")\n",
        "    for epoch in range(1000):\n",
        "        # 訓練\n",
        "        optimizer.zero_grad()\n",
        "        model.train()\n",
        "        y_pred = model(features, adj)\n",
        "        train_loss = criterion(y_pred[train_set], labels[train_set])\n",
        "        train_acc = accuracy(y_pred[train_set], labels[train_set])\n",
        "        train_loss.backward()\n",
        "        optimizer.step()\n",
        "        \n",
        "        train_losses.append(train_loss.item())\n",
        "        train_accs.append(train_acc.item())\n",
        "        \n",
        "        # バリデーション\n",
        "        with torch.no_grad():\n",
        "            model.eval()\n",
        "            y_pred_val = model(features, adj)\n",
        "            val_loss = criterion(y_pred_val[validation_set], labels[validation_set])\n",
        "            val_acc = accuracy(y_pred_val[validation_set], labels[validation_set])\n",
        "            \n",
        "            val_losses.append(val_loss.item())\n",
        "            val_accs.append(val_acc.item())\n",
        "            \n",
        "            # Early stopping check\n",
        "            if val_loss < best_val_loss:\n",
        "                best_val_loss = val_loss\n",
        "                patience_counter = 0\n",
        "            else:\n",
        "                patience_counter += 1\n",
        "                if patience_counter >= patience:\n",
        "                    break\n",
        "        \n",
        "        if epoch % 50 == 0:\n",
        "            print(f\"Epoch {epoch}: Train Loss={train_loss:.4f}, Train Acc={train_acc:.4f}, \"\n",
        "                  f\"Val Loss={val_loss:.4f}, Val Acc={val_acc:.4f}\")\n",
        "    \n",
        "    # 最終テスト\n",
        "    with torch.no_grad():\n",
        "        model.eval()\n",
        "        y_pred_final = model(features, adj)\n",
        "        test_loss = criterion(y_pred_final[test_set], labels[test_set])\n",
        "        test_acc = accuracy(y_pred_final[test_set], labels[test_set])\n",
        "    \n",
        "    print(f\"\\n✅ 最終結果:\")\n",
        "    print(f\"テスト損失: {test_loss:.4f}\")\n",
        "    print(f\"テスト精度: {test_acc:.4f}\")\n",
        "    print(f\"訓練エポック数: {epoch + 1}\")\n",
        "    \n",
        "    return {\n",
        "        'model': model,\n",
        "        'test_acc': test_acc.item(),\n",
        "        'test_loss': test_loss.item(),\n",
        "        'epochs': epoch + 1,\n",
        "        'train_history': {\n",
        "            'loss': train_losses,\n",
        "            'acc': train_accs\n",
        "        },\n",
        "        'val_history': {\n",
        "            'loss': val_losses,\n",
        "            'acc': val_accs\n",
        "        }\n",
        "    }\n",
        "\n",
        "# 最終検証実行\n",
        "final_results = final_validation_with_best_params(best_params)\n",
        "\n",
        "print(f\"\\n🎯 最終的な最適パラメータとテスト精度:\")\n",
        "print(f\"テスト精度: {final_results['test_acc']:.4f}\")\n",
        "print(\"最適パラメータ:\")\n",
        "for key, value in best_params.items():\n",
        "    if key not in ['test_acc', 'epochs']:\n",
        "        print(f\"  {key}: {value}\")\n"
      ]
    },
    {
      "cell_type": "code",
      "execution_count": null,
      "metadata": {},
      "outputs": [],
      "source": [
        "# 結果の可視化\n",
        "\n",
        "def plot_optimization_results(results_df, final_results):\n",
        "    \"\"\"\n",
        "    最適化結果の可視化\n",
        "    \"\"\"\n",
        "    \n",
        "    plt.figure(figsize=(20, 15))\n",
        "    \n",
        "    # 1. パラメータ別精度分布\n",
        "    params_to_plot = ['alpha', 'K', 'hidden_dim', 'dropout', 'lr', 'weight_decay']\n",
        "    \n",
        "    for i, param in enumerate(params_to_plot, 1):\n",
        "        plt.subplot(3, 3, i)\n",
        "        param_groups = results_df.groupby(param)['test_acc'].agg(['mean', 'std'])\n",
        "        \n",
        "        x = param_groups.index\n",
        "        y = param_groups['mean']\n",
        "        yerr = param_groups['std']\n",
        "        \n",
        "        plt.errorbar(x, y, yerr=yerr, marker='o', capsize=3, capthick=2)\n",
        "        plt.title(f'{param}の影響')\n",
        "        plt.xlabel(param)\n",
        "        plt.ylabel('テスト精度')\n",
        "        plt.grid(True, alpha=0.3)\n",
        "        \n",
        "        # 最適値をハイライト\n",
        "        if param in best_params:\n",
        "            best_val = best_params[param]\n",
        "            plt.axvline(x=best_val, color='red', linestyle='--', alpha=0.7, label=f'最適値: {best_val}')\n",
        "            plt.legend()\n",
        "    \n",
        "    # 2. 精度分布ヒストグラム\n",
        "    plt.subplot(3, 3, 7)\n",
        "    plt.hist(results_df['test_acc'], bins=30, alpha=0.7, edgecolor='black')\n",
        "    plt.axvline(x=final_results['test_acc'], color='red', linestyle='--', linewidth=2, label=f'最高精度: {final_results[\"test_acc\"]:.4f}')\n",
        "    plt.title('テスト精度分布')\n",
        "    plt.xlabel('テスト精度')\n",
        "    plt.ylabel('頻度')\n",
        "    plt.legend()\n",
        "    plt.grid(True, alpha=0.3)\n",
        "    \n",
        "    # 3. 訓练过程可视化\n",
        "    plt.subplot(3, 3, 8)\n",
        "    epochs_range = range(len(final_results['train_history']['loss']))\n",
        "    plt.plot(epochs_range, final_results['train_history']['loss'], 'b-', label='訓練損失', linewidth=2)\n",
        "    plt.plot(epochs_range, final_results['val_history']['loss'], 'r-', label='バリデーション損失', linewidth=2)\n",
        "    plt.title('最適パラメータでの損失変化')\n",
        "    plt.xlabel('エポック')\n",
        "    plt.ylabel('損失')\n",
        "    plt.legend()\n",
        "    plt.grid(True, alpha=0.3)\n",
        "    \n",
        "    plt.subplot(3, 3, 9)\n",
        "    plt.plot(epochs_range, final_results['train_history']['acc'], 'b-', label='訓練精度', linewidth=2)\n",
        "    plt.plot(epochs_range, final_results['val_history']['acc'], 'r-', label='バリデーション精度', linewidth=2)\n",
        "    plt.title('最適パラメータでの精度変化')\n",
        "    plt.xlabel('エポック')\n",
        "    plt.ylabel('精度')\n",
        "    plt.legend()\n",
        "    plt.grid(True, alpha=0.3)\n",
        "    \n",
        "    plt.tight_layout()\n",
        "    plt.show()\n",
        "\n",
        "# 可視化実行\n",
        "plot_optimization_results(results_df, final_results)\n",
        "\n",
        "# 結果をCSVファイルに保存\n",
        "results_df.to_csv('/content/drive/My Drive/Colab Notebooks/appnp_optimization_results.csv', index=False)\n",
        "print(\"結果をCSVファイルに保存しました: /content/drive/My Drive/Colab Notebooks/appnp_optimization_results.csv\")\n"
      ]
    },
    {
      "cell_type": "code",
      "execution_count": null,
      "metadata": {
        "colab": {
          "base_uri": "https://localhost:8080/",
          "height": 428
        },
        "id": "YQ6_lm-WWO7u",
        "outputId": "534dd99a-ced7-4147-cf77-356e986b0619"
      },
      "outputs": [
        {
          "data": {
            "image/png": "[encoded data removed]",
            "text/plain": [
              "<Figure size 640x480 with 1 Axes>"
            ]
          },
          "metadata": {},
          "output_type": "display_data"
        }
      ],
      "source": [
        "visualize_embedding_tSNE(labels, y_pred, num_classes)"
      ]
    }
  ],
  "metadata": {
    "colab": {
      "provenance": []
    },
    "kernelspec": {
      "display_name": "Python 3",
      "name": "python3"
    },
    "language_info": {
      "name": "python"
    }
  },
  "nbformat": 4,
  "nbformat_minor": 0
}
